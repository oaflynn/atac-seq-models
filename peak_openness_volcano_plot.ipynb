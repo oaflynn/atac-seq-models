{
 "cells": [
  {
   "cell_type": "code",
   "execution_count": 20,
   "metadata": {},
   "outputs": [],
   "source": [
    "import pandas as pd\n",
    "import math\n",
    "from bioinfokit import analys, visuz\n",
    "from matplotlib import pyplot as plt\n",
    "\n",
    "L_0 = 132000000 # Genome size\n",
    "PSEUDOCOUNT = 5 # delta term\n",
    "REP_NUM = '1'\n",
    "OUT_NAME = 'Openness output/rep'+REP_NUM+'_peaks_volcano'"
   ]
  },
  {
   "cell_type": "code",
   "execution_count": 21,
   "metadata": {},
   "outputs": [
    {
     "data": {
      "text/plain": [
       "[(304.992889, 308.0, 3.695203, 'chr2L', 67012.0),\n",
       " (273.987305, 582.0, 3.1352, 'chr2L', 73640.0),\n",
       " (262.300873, 372.0, 3.695203, 'chr2L', 155641.0),\n",
       " (311.204437, 192.0, 4.700867, 'chr2L', 156226.0),\n",
       " (420.742798, 638.0, 3.931839, 'chr2L', 161166.0)]"
      ]
     },
     "execution_count": 21,
     "metadata": {},
     "output_type": "execute_result"
    }
   ],
   "source": [
    "peak_data48 = [] # List to store (peak height, peak length, p-value, chrom, start) tuples\n",
    "Y48 = 0 # Initialize genome peak aggregate for 48hr sample\n",
    "narrowPeak_file = open('narrowPeak/48hr_rep'+REP_NUM+'.narrowPeak', 'r')\n",
    "for peak in narrowPeak_file:\n",
    "    data = peak.split()\n",
    "    height = float(data[6])\n",
    "    length = float(data[2]) - float(data[1])\n",
    "    Y48 += height # Construct Y term for 48hr sample\n",
    "\n",
    "    pvalue = float(data[7])\n",
    "    chrom = data[0]\n",
    "    start = float(data[2])\n",
    "    peak_data48.append((height, length, pvalue, chrom, start))\n",
    "narrowPeak_file.close()\n",
    "peak_data48[:5]"
   ]
  },
  {
   "cell_type": "code",
   "execution_count": 22,
   "metadata": {},
   "outputs": [
    {
     "data": {
      "text/plain": [
       "[(442.782074, 373.0, 4.08179, 'chr2L', 67062.0),\n",
       " (1127.309082, 1409.0, 4.41474, 'chr2L', 73544.0),\n",
       " (230.110138, 407.0, 3.552834, 'chr2L', 74125.0),\n",
       " (232.691132, 482.0, 3.319226, 'chr2L', 108303.0),\n",
       " (219.805557, 272.0, 3.625748, 'chr2L', 109464.0)]"
      ]
     },
     "execution_count": 22,
     "metadata": {},
     "output_type": "execute_result"
    }
   ],
   "source": [
    "peak_data72 = [] # List to store (peak height, peak length, p-value, chrom, start) tuples\n",
    "narrowPeak_file = open('narrowPeak/72hr_rep'+REP_NUM+'.narrowPeak', 'r')\n",
    "Y72 = 0 # Initialize genome peak aggregate for 72hr sample\n",
    "for peak in narrowPeak_file:\n",
    "    data = peak.split()\n",
    "    height = float(data[6])\n",
    "    length = float(data[2]) - float(data[1])\n",
    "    Y72 += height # Construct Y term for 72hr sample\n",
    "\n",
    "    pvalue = float(data[7])\n",
    "    chrom = data[0]\n",
    "    start = float(data[2])\n",
    "    peak_data72.append((height, length, pvalue, chrom, start))\n",
    "narrowPeak_file.close()\n",
    "peak_data72[:5]"
   ]
  },
  {
   "cell_type": "code",
   "execution_count": 23,
   "metadata": {},
   "outputs": [
    {
     "name": "stdout",
     "output_type": "stream",
     "text": [
      "1359 2016 0\n",
      "0 1347 669\n",
      "0 0 669\n"
     ]
    }
   ],
   "source": [
    "# Align peaks between 48hr and 72hr data if the peak start is within 50bp of each other\n",
    "# (choose the closest if there's multiple)\n",
    "matched_peaks = [] # [((48hr peak tuple) or None, (72hr peak tuple) or None)]\n",
    "match_count = 0\n",
    "only48 = 0\n",
    "only72 = 0\n",
    "# First go through 48hr peaks and match to 72hr, popping from the respective list when a peak is added to\n",
    "# the list of matched peaks\n",
    "print(len(peak_data48), len(peak_data72), len(matched_peaks))\n",
    "while len(peak_data48) > 0:\n",
    "    peak = peak_data48.pop()\n",
    "    matches = [p for p in peak_data72 if p[3]==peak[3] and p[4] >= peak[4]-50 and p[4] <= peak[4]+50]\n",
    "    if len(matches) == 0:\n",
    "#         matched_peaks.append((peak, None))\n",
    "        only48 += 1\n",
    "    else:\n",
    "        chosen_peak = sorted(matches, key=lambda p: abs(peak[4]-p[4]))[0]\n",
    "        matched_peaks.append((peak, chosen_peak))\n",
    "        match_count += 1\n",
    "        peak_data72.remove(chosen_peak)\n",
    "print(len(peak_data48), len(peak_data72), len(matched_peaks))\n",
    "\n",
    "# Go through remaining peaks in 72hr list\n",
    "while len(peak_data72) > 0:\n",
    "    peak = peak_data72.pop()\n",
    "#     matched_peaks.append((None, peak))\n",
    "    only72 += 1\n",
    "print(len(peak_data48), len(peak_data72), len(matched_peaks))"
   ]
  },
  {
   "cell_type": "code",
   "execution_count": 24,
   "metadata": {},
   "outputs": [
    {
     "name": "stdout",
     "output_type": "stream",
     "text": [
      "669  matched peaks\n",
      "690  peaks only in 48hr\n",
      "1347  peaks only in 72hr\n"
     ]
    }
   ],
   "source": [
    "print(match_count, ' matched peaks')\n",
    "print(only48, ' peaks only in 48hr')\n",
    "print(only72, ' peaks only in 72hr')"
   ]
  },
  {
   "cell_type": "code",
   "execution_count": 25,
   "metadata": {},
   "outputs": [],
   "source": [
    "# Get data ready for volcano plot\n",
    "volcano_df = pd.DataFrame(columns=['GeneNames', 'value1', 'value2', 'log2fc', 'p-value'])\n",
    "for peak48, peak72 in matched_peaks:\n",
    "    # Unpack values\n",
    "    if peak48:\n",
    "        height48, length48, pvalue48, chrom48, _ = peak48\n",
    "    if peak72:\n",
    "        height72, length72, pvalue72, _, _ = peak72\n",
    "    \n",
    "    # Openness score for 48hr peak\n",
    "    o_score48 = 0.001\n",
    "    if peak48:\n",
    "        X48 = height * (1-(10**(-1*pvalue48))) # Incorproate peak p-value\n",
    "        L48 = length\n",
    "        o_score48 = (X48 / L48) / ((Y48+PSEUDOCOUNT) / L_0)\n",
    "    # Openness score for 72hr peak\n",
    "    o_score72 = 0.001\n",
    "    if peak72:\n",
    "        X72 = height * (1-(10**(-1*pvalue72))) # Incorproate peak p-value\n",
    "        L72 = length\n",
    "        o_score72 = (X72 / L72) / ((Y72+PSEUDOCOUNT) / L_0)\n",
    "        \n",
    "    # Append to plot data\n",
    "    fold_change = o_score72 / o_score48\n",
    "    row = {'GeneNames':chrom48, 'value1':o_score72, 'value2':o_score48, 'log2fc':math.log2(fold_change), 'p-value':min(pvalue48, pvalue72)}\n",
    "    volcano_df = volcano_df.append(row, ignore_index=True)"
   ]
  },
  {
   "cell_type": "code",
   "execution_count": 26,
   "metadata": {},
   "outputs": [
    {
     "data": {
      "image/png": "[encoded data removed]",
      "text/plain": [
       "<Figure size 432x288 with 1 Axes>"
      ]
     },
     "metadata": {
      "needs_background": "light"
     },
     "output_type": "display_data"
    }
   ],
   "source": [
    "# Create matplotlib plot\n",
    "x = volcano_df['log2fc']\n",
    "y = volcano_df['p-value']\n",
    "plt.ylabel('p-value (-log10)')\n",
    "plt.xlabel('Fold change (log2)')\n",
    "plt.scatter(x, y)\n",
    "plt.savefig('Openness output/matched_peaks_'+str(REP_NUM)+'_volcano.png')"
   ]
  },
  {
   "cell_type": "code",
   "execution_count": 112,
   "metadata": {},
   "outputs": [],
   "source": [
    "# Create volcano plot\n",
    "visuz.gene_exp.volcano(df=volcano_df, lfc='log2fc', pv='p-value', figname=OUT_NAME, lfc_thr=2)"
   ]
  },
  {
   "cell_type": "code",
   "execution_count": 130,
   "metadata": {},
   "outputs": [
    {
     "data": {
      "text/plain": [
       "(-0.6258628289809944, -0.6225053457644498)"
      ]
     },
     "execution_count": 130,
     "metadata": {},
     "output_type": "execute_result"
    }
   ],
   "source": [
    "min(volcano_df['log2fc']), max(volcano_df['log2fc'])"
   ]
  },
  {
   "cell_type": "code",
   "execution_count": null,
   "metadata": {},
   "outputs": [],
   "source": []
  }
 ],
 "metadata": {
  "kernelspec": {
   "display_name": "Python 3.7.2 64-bit",
   "language": "python",
   "name": "python37264bit7527458fe11f4e49aafeb4daebb28d08"
  },
  "language_info": {
   "codemirror_mode": {
    "name": "ipython",
    "version": 3
   },
   "file_extension": ".py",
   "mimetype": "text/x-python",
   "name": "python",
   "nbconvert_exporter": "python",
   "pygments_lexer": "ipython3",
   "version": "3.7.2"
  }
 },
 "nbformat": 4,
 "nbformat_minor": 2
}
