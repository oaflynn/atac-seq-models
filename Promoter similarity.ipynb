{
 "cells": [
  {
   "cell_type": "code",
   "execution_count": 1,
   "metadata": {},
   "outputs": [],
   "source": [
    "# Imports\n",
    "import pandas as pd\n",
    "import itertools\n",
    "import networkx as nx\n",
    "import requests, sys\n",
    "from tqdm import tqdm\n",
    "from matplotlib import pyplot as plt\n",
    "import numpy as np\n",
    "import sklearn.cluster as skcluster\n",
    "import sklearn.mixture as skmixture\n",
    "import math\n",
    "import utils\n",
    "\n",
    "# User-set variables\n",
    "SIMILARITY_THRESHOLD = .5 # For deciding to cluster two promoters when using Ratcliff-Obershelp similarity"
   ]
  },
  {
   "cell_type": "code",
   "execution_count": 2,
   "metadata": {},
   "outputs": [],
   "source": [
    "# Helpers\n",
    "def openness_dict(file):\n",
    "    df = pd.read_csv(file)\n",
    "    out_dict = {}\n",
    "    for i, row in df.iterrows():\n",
    "        gene_id = row['gene_id']\n",
    "        a_t = row['A_g_max']\n",
    "        out_dict[gene_id] = a_t\n",
    "    return out_dict\n",
    "\n",
    "def prune():\n",
    "    gene_ids = sorted(rep1_48)\n",
    "    for gene in gene_ids:\n",
    "        if rep1_48[gene] == 0 and rep2_48[gene] == 0 and rep3_48[gene] == 0 and rep1_72[gene] == 0 and rep2_72[gene] == 0 and rep3_72[gene] == 0:\n",
    "            del rep1_48[gene]\n",
    "            del rep2_48[gene]\n",
    "            del rep3_48[gene]\n",
    "            del rep1_72[gene]\n",
    "            del rep2_72[gene]\n",
    "            del rep3_72[gene]\n",
    "\n",
    "# Move to helpers file\n",
    "conversions = pd.read_csv('fbgn_annotation_ID_fb_2020_04.tsv', sep='\\t', header=0)\n",
    "def FBgn_to_entrez(FBgn):\n",
    "    try:\n",
    "        entrez = conversions[conversions['primary_FBgn#'] == FBgn]['gene_symbol'].iloc[0]\n",
    "    except:\n",
    "        try:\n",
    "            entrez = conversions[conversions['secondary_FBgn#(s)'] == FBgn]['gene_symbol'].iloc[0]\n",
    "        except:\n",
    "            entrez = FBgn\n",
    "    return entrez\n",
    "\n",
    "# Replace with non-REST one\n",
    "def promoter_dict(fbgns):\n",
    "    df = pd.read_csv('promoter_similarity_seqs.csv')\n",
    "    out_dict = {}\n",
    "    for fbgn in tqdm(fbgns):\n",
    "        try:\n",
    "            out_dict[fbgn] = df[df['gene_id'] == fbgn].iloc[0]['sequence'] #promoter_seq\n",
    "        except:\n",
    "            continue\n",
    "    return out_dict\n",
    "\n",
    "def aggregate_openness_scores(rep, components):\n",
    "    rep_avg = []\n",
    "    rep_sum = []\n",
    "    for component in components:\n",
    "        o_scores = [rep[fbgn] if fbgn in rep.keys() else 0 for fbgn in component]\n",
    "        summation = sum(o_scores)\n",
    "        average = summation/len(o_scores)\n",
    "        rep_avg.append(average)\n",
    "        rep_sum.append(summation)\n",
    "    return rep_avg, rep_sum"
   ]
  },
  {
   "cell_type": "code",
   "execution_count": 3,
   "metadata": {},
   "outputs": [
    {
     "ename": "KeyboardInterrupt",
     "evalue": "",
     "output_type": "error",
     "traceback": [
      "\u001b[0;31m---------------------------------------------------------------------------\u001b[0m",
      "\u001b[0;31mKeyboardInterrupt\u001b[0m                         Traceback (most recent call last)",
      "\u001b[0;32m<ipython-input-3-1f2b962b34f1>\u001b[0m in \u001b[0;36m<module>\u001b[0;34m\u001b[0m\n\u001b[1;32m      3\u001b[0m \u001b[0mrep2_48\u001b[0m \u001b[0;34m=\u001b[0m \u001b[0mopenness_dict\u001b[0m\u001b[0;34m(\u001b[0m\u001b[0;34m'Openness output/500promoter500gene_48hr_rep2.csv'\u001b[0m\u001b[0;34m)\u001b[0m\u001b[0;34m\u001b[0m\u001b[0;34m\u001b[0m\u001b[0m\n\u001b[1;32m      4\u001b[0m \u001b[0mrep3_48\u001b[0m \u001b[0;34m=\u001b[0m \u001b[0mopenness_dict\u001b[0m\u001b[0;34m(\u001b[0m\u001b[0;34m'Openness output/500promoter500gene_48hr_rep3.csv'\u001b[0m\u001b[0;34m)\u001b[0m\u001b[0;34m\u001b[0m\u001b[0;34m\u001b[0m\u001b[0m\n\u001b[0;32m----> 5\u001b[0;31m \u001b[0mrep1_72\u001b[0m \u001b[0;34m=\u001b[0m \u001b[0mopenness_dict\u001b[0m\u001b[0;34m(\u001b[0m\u001b[0;34m'Openness output/500promoter500gene_72hr_rep1.csv'\u001b[0m\u001b[0;34m)\u001b[0m\u001b[0;34m\u001b[0m\u001b[0;34m\u001b[0m\u001b[0m\n\u001b[0m\u001b[1;32m      6\u001b[0m \u001b[0mrep2_72\u001b[0m \u001b[0;34m=\u001b[0m \u001b[0mopenness_dict\u001b[0m\u001b[0;34m(\u001b[0m\u001b[0;34m'Openness output/500promoter500gene_72hr_rep2.csv'\u001b[0m\u001b[0;34m)\u001b[0m\u001b[0;34m\u001b[0m\u001b[0;34m\u001b[0m\u001b[0m\n\u001b[1;32m      7\u001b[0m \u001b[0mrep3_72\u001b[0m \u001b[0;34m=\u001b[0m \u001b[0mopenness_dict\u001b[0m\u001b[0;34m(\u001b[0m\u001b[0;34m'Openness output/500promoter500gene_72hr_rep3.csv'\u001b[0m\u001b[0;34m)\u001b[0m\u001b[0;34m\u001b[0m\u001b[0;34m\u001b[0m\u001b[0m\n",
      "\u001b[0;32m<ipython-input-2-bd9427c96aef>\u001b[0m in \u001b[0;36mopenness_dict\u001b[0;34m(file)\u001b[0m\n\u001b[1;32m      3\u001b[0m     \u001b[0mdf\u001b[0m \u001b[0;34m=\u001b[0m \u001b[0mpd\u001b[0m\u001b[0;34m.\u001b[0m\u001b[0mread_csv\u001b[0m\u001b[0;34m(\u001b[0m\u001b[0mfile\u001b[0m\u001b[0;34m)\u001b[0m\u001b[0;34m\u001b[0m\u001b[0;34m\u001b[0m\u001b[0m\n\u001b[1;32m      4\u001b[0m     \u001b[0mout_dict\u001b[0m \u001b[0;34m=\u001b[0m \u001b[0;34m{\u001b[0m\u001b[0;34m}\u001b[0m\u001b[0;34m\u001b[0m\u001b[0;34m\u001b[0m\u001b[0m\n\u001b[0;32m----> 5\u001b[0;31m     \u001b[0;32mfor\u001b[0m \u001b[0mi\u001b[0m\u001b[0;34m,\u001b[0m \u001b[0mrow\u001b[0m \u001b[0;32min\u001b[0m \u001b[0mdf\u001b[0m\u001b[0;34m.\u001b[0m\u001b[0miterrows\u001b[0m\u001b[0;34m(\u001b[0m\u001b[0;34m)\u001b[0m\u001b[0;34m:\u001b[0m\u001b[0;34m\u001b[0m\u001b[0;34m\u001b[0m\u001b[0m\n\u001b[0m\u001b[1;32m      6\u001b[0m         \u001b[0mgene_id\u001b[0m \u001b[0;34m=\u001b[0m \u001b[0mrow\u001b[0m\u001b[0;34m[\u001b[0m\u001b[0;34m'gene_id'\u001b[0m\u001b[0;34m]\u001b[0m\u001b[0;34m\u001b[0m\u001b[0;34m\u001b[0m\u001b[0m\n\u001b[1;32m      7\u001b[0m         \u001b[0ma_t\u001b[0m \u001b[0;34m=\u001b[0m \u001b[0mrow\u001b[0m\u001b[0;34m[\u001b[0m\u001b[0;34m'A_g_max'\u001b[0m\u001b[0;34m]\u001b[0m\u001b[0;34m\u001b[0m\u001b[0;34m\u001b[0m\u001b[0m\n",
      "\u001b[0;32m/Library/Frameworks/Python.framework/Versions/3.7/lib/python3.7/site-packages/pandas/core/frame.py\u001b[0m in \u001b[0;36miterrows\u001b[0;34m(self)\u001b[0m\n\u001b[1;32m   1012\u001b[0m         \u001b[0mklass\u001b[0m \u001b[0;34m=\u001b[0m \u001b[0mself\u001b[0m\u001b[0;34m.\u001b[0m\u001b[0m_constructor_sliced\u001b[0m\u001b[0;34m\u001b[0m\u001b[0;34m\u001b[0m\u001b[0m\n\u001b[1;32m   1013\u001b[0m         \u001b[0;32mfor\u001b[0m \u001b[0mk\u001b[0m\u001b[0;34m,\u001b[0m \u001b[0mv\u001b[0m \u001b[0;32min\u001b[0m \u001b[0mzip\u001b[0m\u001b[0;34m(\u001b[0m\u001b[0mself\u001b[0m\u001b[0;34m.\u001b[0m\u001b[0mindex\u001b[0m\u001b[0;34m,\u001b[0m \u001b[0mself\u001b[0m\u001b[0;34m.\u001b[0m\u001b[0mvalues\u001b[0m\u001b[0;34m)\u001b[0m\u001b[0;34m:\u001b[0m\u001b[0;34m\u001b[0m\u001b[0;34m\u001b[0m\u001b[0m\n\u001b[0;32m-> 1014\u001b[0;31m             \u001b[0ms\u001b[0m \u001b[0;34m=\u001b[0m \u001b[0mklass\u001b[0m\u001b[0;34m(\u001b[0m\u001b[0mv\u001b[0m\u001b[0;34m,\u001b[0m \u001b[0mindex\u001b[0m\u001b[0;34m=\u001b[0m\u001b[0mcolumns\u001b[0m\u001b[0;34m,\u001b[0m \u001b[0mname\u001b[0m\u001b[0;34m=\u001b[0m\u001b[0mk\u001b[0m\u001b[0;34m)\u001b[0m\u001b[0;34m\u001b[0m\u001b[0;34m\u001b[0m\u001b[0m\n\u001b[0m\u001b[1;32m   1015\u001b[0m             \u001b[0;32myield\u001b[0m \u001b[0mk\u001b[0m\u001b[0;34m,\u001b[0m \u001b[0ms\u001b[0m\u001b[0;34m\u001b[0m\u001b[0;34m\u001b[0m\u001b[0m\n\u001b[1;32m   1016\u001b[0m \u001b[0;34m\u001b[0m\u001b[0m\n",
      "\u001b[0;32m/Library/Frameworks/Python.framework/Versions/3.7/lib/python3.7/site-packages/pandas/core/series.py\u001b[0m in \u001b[0;36m__init__\u001b[0;34m(self, data, index, dtype, name, copy, fastpath)\u001b[0m\n\u001b[1;32m    327\u001b[0m                 \u001b[0mdata\u001b[0m \u001b[0;34m=\u001b[0m \u001b[0msanitize_array\u001b[0m\u001b[0;34m(\u001b[0m\u001b[0mdata\u001b[0m\u001b[0;34m,\u001b[0m \u001b[0mindex\u001b[0m\u001b[0;34m,\u001b[0m \u001b[0mdtype\u001b[0m\u001b[0;34m,\u001b[0m \u001b[0mcopy\u001b[0m\u001b[0;34m,\u001b[0m \u001b[0mraise_cast_failure\u001b[0m\u001b[0;34m=\u001b[0m\u001b[0;32mTrue\u001b[0m\u001b[0;34m)\u001b[0m\u001b[0;34m\u001b[0m\u001b[0;34m\u001b[0m\u001b[0m\n\u001b[1;32m    328\u001b[0m \u001b[0;34m\u001b[0m\u001b[0m\n\u001b[0;32m--> 329\u001b[0;31m                 \u001b[0mdata\u001b[0m \u001b[0;34m=\u001b[0m \u001b[0mSingleBlockManager\u001b[0m\u001b[0;34m.\u001b[0m\u001b[0mfrom_array\u001b[0m\u001b[0;34m(\u001b[0m\u001b[0mdata\u001b[0m\u001b[0;34m,\u001b[0m \u001b[0mindex\u001b[0m\u001b[0;34m)\u001b[0m\u001b[0;34m\u001b[0m\u001b[0;34m\u001b[0m\u001b[0m\n\u001b[0m\u001b[1;32m    330\u001b[0m \u001b[0;34m\u001b[0m\u001b[0m\n\u001b[1;32m    331\u001b[0m         \u001b[0mgeneric\u001b[0m\u001b[0;34m.\u001b[0m\u001b[0mNDFrame\u001b[0m\u001b[0;34m.\u001b[0m\u001b[0m__init__\u001b[0m\u001b[0;34m(\u001b[0m\u001b[0mself\u001b[0m\u001b[0;34m,\u001b[0m \u001b[0mdata\u001b[0m\u001b[0;34m)\u001b[0m\u001b[0;34m\u001b[0m\u001b[0;34m\u001b[0m\u001b[0m\n",
      "\u001b[0;32m/Library/Frameworks/Python.framework/Versions/3.7/lib/python3.7/site-packages/pandas/core/internals/managers.py\u001b[0m in \u001b[0;36mfrom_array\u001b[0;34m(cls, array, index)\u001b[0m\n\u001b[1;32m   1567\u001b[0m         \u001b[0mConstructor\u001b[0m \u001b[0;32mfor\u001b[0m \u001b[0;32mif\u001b[0m \u001b[0mwe\u001b[0m \u001b[0mhave\u001b[0m \u001b[0man\u001b[0m \u001b[0marray\u001b[0m \u001b[0mthat\u001b[0m \u001b[0;32mis\u001b[0m \u001b[0;32mnot\u001b[0m \u001b[0myet\u001b[0m \u001b[0ma\u001b[0m \u001b[0mBlock\u001b[0m\u001b[0;34m.\u001b[0m\u001b[0;34m\u001b[0m\u001b[0;34m\u001b[0m\u001b[0m\n\u001b[1;32m   1568\u001b[0m         \"\"\"\n\u001b[0;32m-> 1569\u001b[0;31m         \u001b[0mblock\u001b[0m \u001b[0;34m=\u001b[0m \u001b[0mmake_block\u001b[0m\u001b[0;34m(\u001b[0m\u001b[0marray\u001b[0m\u001b[0;34m,\u001b[0m \u001b[0mplacement\u001b[0m\u001b[0;34m=\u001b[0m\u001b[0mslice\u001b[0m\u001b[0;34m(\u001b[0m\u001b[0;36m0\u001b[0m\u001b[0;34m,\u001b[0m \u001b[0mlen\u001b[0m\u001b[0;34m(\u001b[0m\u001b[0mindex\u001b[0m\u001b[0;34m)\u001b[0m\u001b[0;34m)\u001b[0m\u001b[0;34m,\u001b[0m \u001b[0mndim\u001b[0m\u001b[0;34m=\u001b[0m\u001b[0;36m1\u001b[0m\u001b[0;34m)\u001b[0m\u001b[0;34m\u001b[0m\u001b[0;34m\u001b[0m\u001b[0m\n\u001b[0m\u001b[1;32m   1570\u001b[0m         \u001b[0;32mreturn\u001b[0m \u001b[0mcls\u001b[0m\u001b[0;34m(\u001b[0m\u001b[0mblock\u001b[0m\u001b[0;34m,\u001b[0m \u001b[0mindex\u001b[0m\u001b[0;34m)\u001b[0m\u001b[0;34m\u001b[0m\u001b[0;34m\u001b[0m\u001b[0m\n\u001b[1;32m   1571\u001b[0m \u001b[0;34m\u001b[0m\u001b[0m\n",
      "\u001b[0;32m/Library/Frameworks/Python.framework/Versions/3.7/lib/python3.7/site-packages/pandas/core/internals/blocks.py\u001b[0m in \u001b[0;36mmake_block\u001b[0;34m(values, placement, klass, ndim, dtype)\u001b[0m\n\u001b[1;32m   2713\u001b[0m     \u001b[0;32mif\u001b[0m \u001b[0mklass\u001b[0m \u001b[0;32mis\u001b[0m \u001b[0;32mNone\u001b[0m\u001b[0;34m:\u001b[0m\u001b[0;34m\u001b[0m\u001b[0;34m\u001b[0m\u001b[0m\n\u001b[1;32m   2714\u001b[0m         \u001b[0mdtype\u001b[0m \u001b[0;34m=\u001b[0m \u001b[0mdtype\u001b[0m \u001b[0;32mor\u001b[0m \u001b[0mvalues\u001b[0m\u001b[0;34m.\u001b[0m\u001b[0mdtype\u001b[0m\u001b[0;34m\u001b[0m\u001b[0;34m\u001b[0m\u001b[0m\n\u001b[0;32m-> 2715\u001b[0;31m         \u001b[0mklass\u001b[0m \u001b[0;34m=\u001b[0m \u001b[0mget_block_type\u001b[0m\u001b[0;34m(\u001b[0m\u001b[0mvalues\u001b[0m\u001b[0;34m,\u001b[0m \u001b[0mdtype\u001b[0m\u001b[0;34m)\u001b[0m\u001b[0;34m\u001b[0m\u001b[0;34m\u001b[0m\u001b[0m\n\u001b[0m\u001b[1;32m   2716\u001b[0m \u001b[0;34m\u001b[0m\u001b[0m\n\u001b[1;32m   2717\u001b[0m     \u001b[0;32melif\u001b[0m \u001b[0mklass\u001b[0m \u001b[0;32mis\u001b[0m \u001b[0mDatetimeTZBlock\u001b[0m \u001b[0;32mand\u001b[0m \u001b[0;32mnot\u001b[0m \u001b[0mis_datetime64tz_dtype\u001b[0m\u001b[0;34m(\u001b[0m\u001b[0mvalues\u001b[0m\u001b[0;34m.\u001b[0m\u001b[0mdtype\u001b[0m\u001b[0;34m)\u001b[0m\u001b[0;34m:\u001b[0m\u001b[0;34m\u001b[0m\u001b[0;34m\u001b[0m\u001b[0m\n",
      "\u001b[0;32m/Library/Frameworks/Python.framework/Versions/3.7/lib/python3.7/site-packages/pandas/core/internals/blocks.py\u001b[0m in \u001b[0;36mget_block_type\u001b[0;34m(values, dtype)\u001b[0m\n\u001b[1;32m   2669\u001b[0m     \u001b[0mvtype\u001b[0m \u001b[0;34m=\u001b[0m \u001b[0mdtype\u001b[0m\u001b[0;34m.\u001b[0m\u001b[0mtype\u001b[0m\u001b[0;34m\u001b[0m\u001b[0;34m\u001b[0m\u001b[0m\n\u001b[1;32m   2670\u001b[0m \u001b[0;34m\u001b[0m\u001b[0m\n\u001b[0;32m-> 2671\u001b[0;31m     \u001b[0;32mif\u001b[0m \u001b[0mis_sparse\u001b[0m\u001b[0;34m(\u001b[0m\u001b[0mdtype\u001b[0m\u001b[0;34m)\u001b[0m\u001b[0;34m:\u001b[0m\u001b[0;34m\u001b[0m\u001b[0;34m\u001b[0m\u001b[0m\n\u001b[0m\u001b[1;32m   2672\u001b[0m         \u001b[0;31m# Need this first(ish) so that Sparse[datetime] is sparse\u001b[0m\u001b[0;34m\u001b[0m\u001b[0;34m\u001b[0m\u001b[0;34m\u001b[0m\u001b[0m\n\u001b[1;32m   2673\u001b[0m         \u001b[0mcls\u001b[0m \u001b[0;34m=\u001b[0m \u001b[0mExtensionBlock\u001b[0m\u001b[0;34m\u001b[0m\u001b[0;34m\u001b[0m\u001b[0m\n",
      "\u001b[0;32m/Library/Frameworks/Python.framework/Versions/3.7/lib/python3.7/site-packages/pandas/core/dtypes/common.py\u001b[0m in \u001b[0;36mis_sparse\u001b[0;34m(arr)\u001b[0m\n\u001b[1;32m    222\u001b[0m \u001b[0;34m\u001b[0m\u001b[0m\n\u001b[1;32m    223\u001b[0m \u001b[0;34m\u001b[0m\u001b[0m\n\u001b[0;32m--> 224\u001b[0;31m \u001b[0;32mdef\u001b[0m \u001b[0mis_sparse\u001b[0m\u001b[0;34m(\u001b[0m\u001b[0marr\u001b[0m\u001b[0;34m)\u001b[0m \u001b[0;34m->\u001b[0m \u001b[0mbool\u001b[0m\u001b[0;34m:\u001b[0m\u001b[0;34m\u001b[0m\u001b[0;34m\u001b[0m\u001b[0m\n\u001b[0m\u001b[1;32m    225\u001b[0m     \"\"\"\n\u001b[1;32m    226\u001b[0m     \u001b[0mCheck\u001b[0m \u001b[0mwhether\u001b[0m \u001b[0man\u001b[0m \u001b[0marray\u001b[0m\u001b[0;34m-\u001b[0m\u001b[0mlike\u001b[0m \u001b[0;32mis\u001b[0m \u001b[0ma\u001b[0m \u001b[0;36m1\u001b[0m\u001b[0;34m-\u001b[0m\u001b[0mD\u001b[0m \u001b[0mpandas\u001b[0m \u001b[0msparse\u001b[0m \u001b[0marray\u001b[0m\u001b[0;34m.\u001b[0m\u001b[0;34m\u001b[0m\u001b[0;34m\u001b[0m\u001b[0m\n",
      "\u001b[0;31mKeyboardInterrupt\u001b[0m: "
     ]
    }
   ],
   "source": [
    "# Load openness data\n",
    "rep1_48 = openness_dict('Openness output/500promoter500gene_48hr_rep1.csv')\n",
    "rep2_48 = openness_dict('Openness output/500promoter500gene_48hr_rep2.csv')\n",
    "rep3_48 = openness_dict('Openness output/500promoter500gene_48hr_rep3.csv')\n",
    "rep1_72 = openness_dict('Openness output/500promoter500gene_72hr_rep1.csv')\n",
    "rep2_72 = openness_dict('Openness output/500promoter500gene_72hr_rep2.csv')\n",
    "rep3_72 = openness_dict('Openness output/500promoter500gene_72hr_rep3.csv')\n",
    "prune()\n",
    "gene_ids = sorted(rep1_48)"
   ]
  },
  {
   "cell_type": "code",
   "execution_count": null,
   "metadata": {},
   "outputs": [],
   "source": [
    "# Load promoter data\n",
    "promoters = promoter_dict(gene_ids) # {FBgn: promoter sequence}\n",
    "gene_ids = sorted(promoters.keys())"
   ]
  },
  {
   "cell_type": "markdown",
   "metadata": {},
   "source": [
    "# Ratcliff-Obershelp Sequence Similarity Clusters"
   ]
  },
  {
   "cell_type": "code",
   "execution_count": 6,
   "metadata": {},
   "outputs": [
    {
     "name": "stderr",
     "output_type": "stream",
     "text": [
      "100%|██████████| 183921/183921 [21:00<00:00, 145.96it/s]\n"
     ]
    }
   ],
   "source": [
    "# Analyze promoters for Ratcliff-Obershelp similarity\n",
    "adj_list = {fbgn: [] for fbgn in gene_ids} # {FBgn: [FBgns with similar promoters]}\n",
    "pairs = list(itertools.combinations(gene_ids, 2))\n",
    "for p1, p2 in tqdm(pairs):\n",
    "    similarity = utils.sequence_similarity(promoters[p1], promoters[p2])\n",
    "    if similarity >= SIMILARITY_THRESHOLD:\n",
    "        adj_list[p1].append(p2)"
   ]
  },
  {
   "cell_type": "code",
   "execution_count": 9,
   "metadata": {},
   "outputs": [
    {
     "name": "stderr",
     "output_type": "stream",
     "text": [
      "/Library/Frameworks/Python.framework/Versions/3.7/lib/python3.7/site-packages/networkx/drawing/nx_pylab.py:611: MatplotlibDeprecationWarning: isinstance(..., numbers.Number)\n",
      "  if cb.is_numlike(alpha):\n"
     ]
    },
    {
     "data": {
      "image/png": "[encoded data removed]",
      "text/plain": [
       "<Figure size 432x288 with 1 Axes>"
      ]
     },
     "metadata": {},
     "output_type": "display_data"
    }
   ],
   "source": [
    "# Load the adjacency list to a NetworkX graph\n",
    "G = nx.from_dict_of_lists(adj_list)\n",
    "nx.draw(G)\n",
    "plt.show()\n",
    "\n",
    "# Find the components of the network; each component will be 1 weight?\n",
    "# We can adjust using the similarity threshold to create more or less edges\n",
    "# We will end up with groups of genes with similar promoters\n",
    "components = list(nx.connected_components(G))"
   ]
  },
  {
   "cell_type": "code",
   "execution_count": 76,
   "metadata": {},
   "outputs": [
    {
     "name": "stdout",
     "output_type": "stream",
     "text": [
      "522\n",
      "1\n",
      "1\n",
      "1\n",
      "1\n",
      "1\n",
      "1\n",
      "1\n",
      "1\n",
      "1\n",
      "1\n",
      "1\n",
      "1\n",
      "1\n",
      "1\n",
      "1\n",
      "1\n",
      "1\n",
      "4\n",
      "1\n",
      "1\n",
      "1\n",
      "1\n",
      "2\n",
      "2\n",
      "1\n",
      "1\n",
      "1\n",
      "1\n",
      "1\n",
      "1\n",
      "1\n",
      "1\n",
      "1\n",
      "1\n",
      "1\n",
      "1\n",
      "1\n",
      "1\n",
      "1\n",
      "1\n",
      "1\n",
      "2\n",
      "1\n",
      "2\n",
      "1\n",
      "1\n",
      "1\n",
      "1\n",
      "1\n",
      "1\n",
      "1\n",
      "1\n",
      "1\n",
      "1\n",
      "1\n",
      "1\n",
      "1\n",
      "1\n",
      "1\n",
      "1\n",
      "1\n",
      "1\n",
      "1\n",
      "1\n",
      "1\n",
      "1\n",
      "1\n",
      "1\n",
      "1\n",
      "1\n",
      "1\n",
      "1\n",
      "1\n",
      "1\n",
      "1\n",
      "1\n",
      "1\n",
      "1\n"
     ]
    },
    {
     "data": {
      "text/plain": [
       "79"
      ]
     },
     "execution_count": 76,
     "metadata": {},
     "output_type": "execute_result"
    }
   ],
   "source": [
    "# The size of each component, and the number of components\n",
    "for c in components:\n",
    "    print(len(c))\n",
    "len(components)"
   ]
  },
  {
   "cell_type": "markdown",
   "metadata": {},
   "source": [
    "# Scikit Clustering"
   ]
  },
  {
   "cell_type": "code",
   "execution_count": 5,
   "metadata": {},
   "outputs": [],
   "source": [
    "features = np.array([utils.seq_to_vec(promoters[gene]) for gene in promoters.keys()])\n",
    "features = features.reshape(607, 240)\n",
    "#sk.cluster.dbscan(features) # Says every promoter is too noisy\n",
    "#sk.cluster.mean_shift(features, bandwidth=sk.cluster.estimate_bandwidth(features)) # Every promoter is in the same category\n",
    "#sk.cluster.ward_tree(features)\n",
    "k = 79\n",
    "centers, labels, inertia = skcluster.k_means(features, k)"
   ]
  },
  {
   "cell_type": "code",
   "execution_count": 74,
   "metadata": {},
   "outputs": [
    {
     "data": {
      "text/plain": [
       "{0: 6,\n",
       " 1: 14,\n",
       " 2: 10,\n",
       " 3: 13,\n",
       " 4: 10,\n",
       " 5: 7,\n",
       " 6: 8,\n",
       " 7: 21,\n",
       " 8: 10,\n",
       " 9: 15,\n",
       " 10: 11,\n",
       " 11: 6,\n",
       " 12: 9,\n",
       " 13: 5,\n",
       " 14: 8,\n",
       " 15: 13,\n",
       " 16: 10,\n",
       " 17: 11,\n",
       " 18: 10,\n",
       " 19: 8,\n",
       " 20: 9,\n",
       " 21: 6,\n",
       " 22: 7,\n",
       " 23: 8,\n",
       " 24: 9,\n",
       " 25: 8,\n",
       " 26: 6,\n",
       " 27: 9,\n",
       " 28: 4,\n",
       " 29: 9,\n",
       " 30: 9,\n",
       " 31: 6,\n",
       " 32: 8,\n",
       " 33: 8,\n",
       " 34: 7,\n",
       " 35: 11,\n",
       " 36: 8,\n",
       " 37: 10,\n",
       " 38: 4,\n",
       " 39: 7,\n",
       " 40: 6,\n",
       " 41: 9,\n",
       " 42: 6,\n",
       " 43: 6,\n",
       " 44: 14,\n",
       " 45: 3,\n",
       " 46: 7,\n",
       " 47: 8,\n",
       " 48: 11,\n",
       " 49: 7,\n",
       " 50: 7,\n",
       " 51: 8,\n",
       " 52: 8,\n",
       " 53: 8,\n",
       " 54: 5,\n",
       " 55: 4,\n",
       " 56: 6,\n",
       " 57: 6,\n",
       " 58: 11,\n",
       " 59: 7,\n",
       " 60: 7,\n",
       " 61: 4,\n",
       " 62: 6,\n",
       " 63: 6,\n",
       " 64: 3,\n",
       " 65: 8,\n",
       " 66: 7,\n",
       " 67: 8,\n",
       " 68: 9,\n",
       " 69: 2,\n",
       " 70: 6,\n",
       " 71: 4,\n",
       " 72: 5,\n",
       " 73: 3,\n",
       " 74: 5,\n",
       " 75: 5,\n",
       " 76: 5,\n",
       " 77: 4,\n",
       " 78: 5}"
      ]
     },
     "execution_count": 74,
     "metadata": {},
     "output_type": "execute_result"
    }
   ],
   "source": [
    "# Number of genes in each cluster\n",
    "labels_dict = {n: 0 for n in range(k)}\n",
    "for label in labels:\n",
    "    labels_dict[label] += 1\n",
    "labels_dict"
   ]
  },
  {
   "cell_type": "code",
   "execution_count": 78,
   "metadata": {},
   "outputs": [
    {
     "data": {
      "text/plain": [
       "{'AAACAAGGGGCGACAACCCTCCGTATTAAAGCAGTAGCGCGATGCCAGTGAGAGAGAGGG': 1,\n",
       " 'ACGCGGTAGCATACCGAAAGGTAAAAAAAAATTCCCCAGTTATCGCTGTCAGTGTCAAGT': 1,\n",
       " 'GATAGTTTTAAACTTTCAATATCAAAGTCAAAAGACAAATAGGAAAAGTCAACGATAGCA': 1,\n",
       " 'CAACTGACAAAAAGTATTGCAGTAGAGAGGTGAAATTCCGCGATAACGTCAGTTCTTTTT': 1,\n",
       " 'TAATTAAACATTCATTGACATATAAAAGCTTGTTCTAACAGTATTAAATCAGTTTTTTTT': 1,\n",
       " 'ACAGTTTGTAGCGGACATATAGTCGGTCGAGAGCGTCAGCTGTAGCGATCAGTTTGTTTT': 1,\n",
       " 'AGTTATATGATTGCGGTCACTTGTTCGATATACACTTTAGGCGATTTGTCAGTGTGGTTA': 1,\n",
       " 'TTTGCACTACACTAACACTAGACGGTCGTCGCTGTGATATAAAAAAGGTCAGTATAAAAA': 1,\n",
       " 'TGTATGGTTTCCAACACCCGTGGCCAACATTTGAATTTCCAATTGCTTTCAGTCTTTTTT': 1,\n",
       " 'AATAAAAAGCGACAACGTGATGAATTTCAATGTGATGGGCAACGTCGGTAAAAAAAACAC': 1,\n",
       " 'TTGATGCTCCGGCTTTTGCATTGTCTCGGTGGCGGCGGTAACTAGGTATCAATTTATTTT': 1,\n",
       " 'AGCGACAGTGAGTAGGTATTTTTGGGTACGGTAGCGTCCCGAAAACAATCAGAAAGAAAA': 1,\n",
       " 'TAATTATGGACAACAGACTTTCAGATTTCTGTCGATAATATATACCAATCACACTAAATA': 1,\n",
       " 'ACCATTTCAAATTTTAAAGCTAGTCTGGTGCTGTGAACAAGGTAAAGATCAAATAAAAAC': 1,\n",
       " 'GCGATAAATATGCGTGAGATATACCCTGTACCACCGTTGAGACCATCGTCAATGATTGTC': 1,\n",
       " 'AAATCGTAAAGAGAAGCGAACCATAAAAAGCGCTTGCTCACCTACCAGTGTGAATTTTCT': 1,\n",
       " 'AGGGACGGGAGATATTCAATATATTTAACGACGTAGGGTCGAGAGAAGCTCAAAGAAAGA': 1,\n",
       " 'ATAACTTTTCTATACTTGTTAACAACCGTTATCGCGTGGCGATAGAAGTTAATTTTTATC': 1,\n",
       " 'AGTAGTCAGCTAAATGGTGACGGTTGCTTCTTCAACGCCTAGCACAAGTCAAAAGAAAAC': 1,\n",
       " 'ATATCTCGGGCCCACACGCCAGCACAGAAACAATGCCGACAGTATAAATTGAGAATGGCT': 1}"
      ]
     },
     "execution_count": 78,
     "metadata": {},
     "output_type": "execute_result"
    }
   ],
   "source": [
    "center_dict = {}\n",
    "for center in centers:\n",
    "    center = [center[i:i + 4] for i in range(0, len(center), 4)]\n",
    "    vec = []\n",
    "    for quad in center:\n",
    "        one = list(quad).index(max(quad))\n",
    "        one_hot = [0, 0, 0, 0]\n",
    "        one_hot[one] = 1\n",
    "        vec += one_hot\n",
    "    seq = utils.vec_to_seq(vec)\n",
    "    try:\n",
    "        center_dict[seq] += 1\n",
    "    except:\n",
    "        center_dict[seq] = 1\n",
    "center_dict"
   ]
  },
  {
   "cell_type": "code",
   "execution_count": 6,
   "metadata": {},
   "outputs": [
    {
     "data": {
      "text/plain": [
       "4"
      ]
     },
     "execution_count": 6,
     "metadata": {},
     "output_type": "execute_result"
    }
   ],
   "source": [
    "clusters = {n: [] for n in range(k)}\n",
    "for i, label in enumerate(labels):\n",
    "    seq = utils.vec_to_seq(features[i])\n",
    "    fbgn = list(promoters.keys())[list(promoters.values()).index(seq)]\n",
    "    clusters[label].append(fbgn)\n",
    "components = [clusters[cluster] for cluster in clusters.keys()]\n",
    "len(components[0])"
   ]
  },
  {
   "cell_type": "markdown",
   "metadata": {},
   "source": [
    "# Linear Regression Model"
   ]
  },
  {
   "cell_type": "code",
   "execution_count": 10,
   "metadata": {},
   "outputs": [],
   "source": [
    "# Make sure you have 'components' variable defined, either by clustering or sequence similarity\n",
    "\n",
    "# Aggregate the openness scores among the genes in each group -> a new sized a(t) vector\n",
    "# There will be one for each replication\n",
    "rep1_avg, rep1_sum = aggregate_openness_scores(rep1_48, components)\n",
    "rep2_avg, rep2_sum = aggregate_openness_scores(rep2_48, components)\n",
    "rep3_avg, rep3_sum = aggregate_openness_scores(rep3_48, components)\n",
    "sum_lists = [rep1_sum, rep2_sum, rep3_sum]"
   ]
  },
  {
   "cell_type": "code",
   "execution_count": 11,
   "metadata": {},
   "outputs": [],
   "source": [
    "gene = 'FBgn0050452' # FBgn0011958 - in both time steps, FBgn0050452 - in 48 only, FBgn0011881 - in 72 only\n",
    "x = [rep1_avg+[1], rep2_avg+[1], rep3_avg+[1]]\n",
    "y = [rep1_72[gene], rep2_72[gene], rep3_72[gene]]"
   ]
  },
  {
   "cell_type": "code",
   "execution_count": 12,
   "metadata": {},
   "outputs": [
    {
     "data": {
      "text/plain": [
       "(array([-8.70776887e-03,  0.00000000e+00,  1.01714741e-02,  0.00000000e+00,\n",
       "        -2.31794417e-02,  0.00000000e+00,  0.00000000e+00,  0.00000000e+00,\n",
       "         2.35970357e-02,  6.31949689e-03, -2.78452329e-03,  2.84242590e-04,\n",
       "         0.00000000e+00,  1.55598314e-03,  6.99089749e-03, -5.99443966e-03,\n",
       "        -4.05419111e-02, -7.23610090e-02, -1.16572690e-03,  1.58685777e-02,\n",
       "        -5.89953694e-02, -6.69449896e-03,  0.00000000e+00,  0.00000000e+00,\n",
       "         0.00000000e+00,  7.28126600e-03,  0.00000000e+00,  0.00000000e+00,\n",
       "        -2.40918155e-02,  0.00000000e+00,  8.82132176e-04,  3.05193229e-03,\n",
       "         0.00000000e+00,  1.96458187e-02,  1.56088388e-02,  4.04310580e-03,\n",
       "         0.00000000e+00,  0.00000000e+00,  2.25887096e-02, -2.75051339e-02,\n",
       "         3.05609791e-02, -7.75764852e-03, -1.75536436e-04,  0.00000000e+00,\n",
       "         1.22763394e-03,  0.00000000e+00, -1.02172422e-02,  0.00000000e+00,\n",
       "         0.00000000e+00,  1.31989027e-02, -1.88506063e-01, -8.52688252e-02,\n",
       "        -4.02946860e-02,  0.00000000e+00,  6.11121568e-03, -1.83596450e-01,\n",
       "         1.07411844e-02, -1.33212587e-01,  0.00000000e+00,  0.00000000e+00,\n",
       "         0.00000000e+00,  0.00000000e+00, -1.19653907e-01, -8.95834617e-02,\n",
       "         0.00000000e+00,  6.74341041e-03,  0.00000000e+00,  0.00000000e+00,\n",
       "         0.00000000e+00,  0.00000000e+00,  0.00000000e+00,  8.96834378e-04,\n",
       "         0.00000000e+00,  2.88809892e-02,  0.00000000e+00,  1.88800789e-02,\n",
       "         2.54225592e-03,  0.00000000e+00, -6.94480803e-02,  2.86265409e-01]),\n",
       " (80,))"
      ]
     },
     "execution_count": 12,
     "metadata": {},
     "output_type": "execute_result"
    }
   ],
   "source": [
    "A = np.vstack(x).T\n",
    "result = np.linalg.lstsq(x, y, rcond=None)[0]\n",
    "result, result.shape"
   ]
  },
  {
   "cell_type": "code",
   "execution_count": 14,
   "metadata": {},
   "outputs": [
    {
     "data": {
      "text/plain": [
       "([0.05549, 0.305181, 0.0],\n",
       " [0.272162, 0.261063, 0.17504],\n",
       " [0.25188070032056026, 0.24274801778212637, 0.12643864973319252])"
      ]
     },
     "execution_count": 14,
     "metadata": {},
     "output_type": "execute_result"
    }
   ],
   "source": [
    "# Predicted Y: w_i*sum(openness scores within a component) summed for each weight w_i plus intercept\n",
    "gene_at_48 = [rep1_48[gene], rep2_48[gene], rep3_48[gene]]\n",
    "pred_y = [sum([result[j]*sum_lists[i][j] for j, avg_openness in enumerate(X[:-1])]) + result[-1] for i, X in enumerate(x)]\n",
    "gene_at_48, y, pred_y"
   ]
  },
  {
   "cell_type": "code",
   "execution_count": 18,
   "metadata": {},
   "outputs": [
    {
     "data": {
      "text/plain": [
       "(0.0031088609380851774, 0.0010362869793617258, 0.0023620912477569076)"
      ]
     },
     "execution_count": 18,
     "metadata": {},
     "output_type": "execute_result"
    }
   ],
   "source": [
    "sq_errs = [(y[i]-pred_y[i])**2 for i in range(3)]\n",
    "sum(sq_errs), sum(sq_errs)/3, max(sq_errs)"
   ]
  },
  {
   "cell_type": "markdown",
   "metadata": {},
   "source": [
    "# Graphing performance of k-means"
   ]
  },
  {
   "cell_type": "code",
   "execution_count": 5,
   "metadata": {},
   "outputs": [],
   "source": [
    "x = range(1, 101) # k value\n",
    "y = [] # sum of square errors\n",
    "gene = 'FBgn0050452' # FBgn0011958 - in both time steps, FBgn0050452 - in 48 only, FBgn0011881 - in 72 only"
   ]
  },
  {
   "cell_type": "code",
   "execution_count": 6,
   "metadata": {},
   "outputs": [
    {
     "name": "stderr",
     "output_type": "stream",
     "text": [
      "100%|██████████| 100/100 [01:14<00:00,  1.34it/s]\n"
     ]
    }
   ],
   "source": [
    "for k in tqdm(x):\n",
    "    features = np.array([utils.seq_to_vec(promoters[gene]) for gene in promoters.keys()])\n",
    "    features = features.reshape(607, 240)\n",
    "    centers, labels, inertia = skcluster.k_means(features, k)\n",
    "    \n",
    "    clusters = {n: [] for n in range(k)}\n",
    "    for i, label in enumerate(labels):\n",
    "        seq = utils.vec_to_seq(features[i])\n",
    "        fbgn = list(promoters.keys())[list(promoters.values()).index(seq)]\n",
    "        clusters[label].append(fbgn)\n",
    "    components = [clusters[cluster] for cluster in clusters.keys()]\n",
    "    \n",
    "    rep1_avg, rep1_sum = aggregate_openness_scores(rep1_48, components)\n",
    "    rep2_avg, rep2_sum = aggregate_openness_scores(rep2_48, components)\n",
    "    rep3_avg, rep3_sum = aggregate_openness_scores(rep3_48, components)\n",
    "    sum_lists = [rep1_sum, rep2_sum, rep3_sum]\n",
    "    \n",
    "    x_LR = [rep1_avg+[1], rep2_avg+[1], rep3_avg+[1]]\n",
    "    y_LR = [rep1_72[gene], rep2_72[gene], rep3_72[gene]]\n",
    "    \n",
    "    A = np.vstack(x_LR).T\n",
    "    result = np.linalg.lstsq(x_LR, y_LR, rcond=None)[0]\n",
    "    \n",
    "    preds = [sum([result[j]*sum_lists[i][j] for j, avg_openness in enumerate(X[:-1])]) + result[-1] for i, X in enumerate(x_LR)]\n",
    "    sum_sq_err = sum([(y_LR[i] - preds[i])**2 for i in range(3)])/3\n",
    "    y.append(sum_sq_err)"
   ]
  },
  {
   "cell_type": "code",
   "execution_count": 7,
   "metadata": {},
   "outputs": [
    {
     "data": {
      "text/plain": [
       "[<matplotlib.lines.Line2D at 0x7fc689e022b0>]"
      ]
     },
     "execution_count": 7,
     "metadata": {},
     "output_type": "execute_result"
    },
    {
     "data": {
      "image/png": "[encoded data removed]",
      "text/plain": [
       "<Figure size 432x288 with 1 Axes>"
      ]
     },
     "metadata": {
      "needs_background": "light"
     },
     "output_type": "display_data"
    }
   ],
   "source": [
    "plt.xlabel('k value')\n",
    "plt.ylabel('log10(mean squared err)')\n",
    "plt.title('Model performance vs number of clusters')\n",
    "plt.plot(x, [math.log(Y) for Y in y])"
   ]
  },
  {
   "cell_type": "code",
   "execution_count": 106,
   "metadata": {},
   "outputs": [
    {
     "data": {
      "text/plain": [
       "(3, 1278.3160834305345)"
      ]
     },
     "execution_count": 106,
     "metadata": {},
     "output_type": "execute_result"
    }
   ],
   "source": [
    "x[2], y[2]"
   ]
  },
  {
   "cell_type": "code",
   "execution_count": 7,
   "metadata": {},
   "outputs": [
    {
     "data": {
      "text/plain": [
       "607"
      ]
     },
     "execution_count": 7,
     "metadata": {},
     "output_type": "execute_result"
    }
   ],
   "source": [
    "len(gene_ids)"
   ]
  },
  {
   "cell_type": "markdown",
   "metadata": {},
   "source": [
    "# Motifs in clustered promoters"
   ]
  },
  {
   "cell_type": "code",
   "execution_count": 92,
   "metadata": {},
   "outputs": [],
   "source": [
    "k = 4\n",
    "base_threshold = .5\n",
    "\n",
    "features = np.array([utils.seq_to_vec(promoters[gene]) for gene in promoters.keys()])\n",
    "features = features.reshape(607, 240)\n",
    "centers, labels, inertia = skcluster.k_means(features, k)"
   ]
  },
  {
   "cell_type": "code",
   "execution_count": 93,
   "metadata": {},
   "outputs": [
    {
     "data": {
      "text/plain": [
       "['-----------------------------------------------ATT-----T----',\n",
       " '------------------------------------------------T-A-A---AA--',\n",
       " '----------------------------------------------AGT-A-A-------',\n",
       " '------------------------------------------------TCAGT-------']"
      ]
     },
     "execution_count": 93,
     "metadata": {},
     "output_type": "execute_result"
    }
   ],
   "source": [
    "center_seqs = []\n",
    "for center in centers:\n",
    "    center = [center[i:i + 4] for i in range(0, len(center), 4)]\n",
    "    vec = []\n",
    "    for quad in center:\n",
    "        one = list(quad).index(max(quad))\n",
    "        one_hot = [0, 0, 0, 0]\n",
    "        one_hot[one] = 1 if max(quad) >= base_threshold else 2\n",
    "        vec += one_hot\n",
    "    seq = utils.vec_to_seq(vec)\n",
    "    center_seqs.append(seq)\n",
    "center_seqs"
   ]
  },
  {
   "cell_type": "code",
   "execution_count": null,
   "metadata": {},
   "outputs": [],
   "source": []
  }
 ],
 "metadata": {
  "kernelspec": {
   "display_name": "Python 3.7.2 64-bit",
   "language": "python",
   "name": "python37264bit7527458fe11f4e49aafeb4daebb28d08"
  },
  "language_info": {
   "codemirror_mode": {
    "name": "ipython",
    "version": 3
   },
   "file_extension": ".py",
   "mimetype": "text/x-python",
   "name": "python",
   "nbconvert_exporter": "python",
   "pygments_lexer": "ipython3",
   "version": "3.7.2"
  }
 },
 "nbformat": 4,
 "nbformat_minor": 4
}
