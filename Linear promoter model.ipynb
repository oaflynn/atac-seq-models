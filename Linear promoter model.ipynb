{
 "cells": [
  {
   "cell_type": "code",
   "execution_count": 2,
   "metadata": {},
   "outputs": [],
   "source": [
    "# Imports\n",
    "import pandas as pd\n",
    "import itertools\n",
    "from tqdm import tqdm\n",
    "import numpy as np\n",
    "from matplotlib import pyplot as plt\n",
    "from sklearn import svm\n",
    "from sklearn.metrics import confusion_matrix\n",
    "from sklearn.neural_network import MLPClassifier, MLPRegressor\n",
    "import utils\n",
    "import tensorflow_probability as tfp\n",
    "import tensorflow as tf\n",
    "import torch as tr"
   ]
  },
  {
   "cell_type": "code",
   "execution_count": 3,
   "metadata": {},
   "outputs": [],
   "source": [
    "# Helpers\n",
    "def openness_dict(file):\n",
    "    df = pd.read_csv(file)\n",
    "    out_dict = {}\n",
    "    for i, row in df.iterrows():\n",
    "        gene_id = row['gene_id']\n",
    "        a_t = row['A_g_sum']\n",
    "        out_dict[gene_id] = a_t\n",
    "    return out_dict\n",
    "\n",
    "# Requires rep[1-3]_[48|72] dictionaries to be defined\n",
    "def prune_by_openness():\n",
    "    gene_ids = list(rep1_48.keys())\n",
    "    for gene in gene_ids:\n",
    "        if rep1_48[gene] == 0 and rep2_48[gene] == 0 and rep3_48[gene] == 0 and rep1_72[gene] == 0 and rep2_72[gene] == 0 and rep3_72[gene] == 0:\n",
    "            del rep1_48[gene]\n",
    "            del rep2_48[gene]\n",
    "            del rep3_48[gene]\n",
    "            del rep1_72[gene]\n",
    "            del rep2_72[gene]\n",
    "            del rep3_72[gene]\n",
    "            \n",
    "# Requires rep[1-3]_[48|72] and promoters dictionaries to be defined\n",
    "def prune_by_promoters():\n",
    "    for gene in list(rep1_48.keys()):\n",
    "        if gene not in gene_ids:\n",
    "            del rep1_48[gene]\n",
    "            del rep2_48[gene]\n",
    "            del rep3_48[gene]\n",
    "            del rep1_72[gene]\n",
    "            del rep2_72[gene]\n",
    "            del rep3_72[gene]\n",
    "\n",
    "def promoter_dict(fbgns):\n",
    "    df = pd.read_csv('linear_regression_promoters.csv')\n",
    "    out_dict = {}\n",
    "    for fbgn in tqdm(fbgns):\n",
    "        try:\n",
    "            out_dict[fbgn] = df[df['gene_id'] == fbgn].iloc[0]['sequence'] #promoter_seq\n",
    "        except:\n",
    "            continue\n",
    "    return out_dict\n",
    "\n",
    "def aggregate_openness_scores(rep, components):\n",
    "    rep_avg = []\n",
    "    rep_sum = []\n",
    "    for component in components:\n",
    "        o_scores = [rep[fbgn] if fbgn in rep.keys() else 0 for fbgn in component]\n",
    "        summation = sum(o_scores)\n",
    "        average = summation/len(o_scores)\n",
    "        rep_avg.append(average)\n",
    "        rep_sum.append(summation)\n",
    "    return rep_avg, rep_sum"
   ]
  },
  {
   "cell_type": "code",
   "execution_count": 4,
   "metadata": {},
   "outputs": [],
   "source": [
    "# Load openness data\n",
    "rep1_48 = openness_dict('Openness output/500promoter500gene_48hr_rep1.csv')\n",
    "rep2_48 = openness_dict('Openness output/500promoter500gene_48hr_rep2.csv')\n",
    "rep3_48 = openness_dict('Openness output/500promoter500gene_48hr_rep3.csv')\n",
    "rep1_72 = openness_dict('Openness output/500promoter500gene_72hr_rep1.csv')\n",
    "rep2_72 = openness_dict('Openness output/500promoter500gene_72hr_rep2.csv')\n",
    "rep3_72 = openness_dict('Openness output/500promoter500gene_72hr_rep3.csv')\n",
    "prune_by_openness() \n",
    "gene_ids = list(rep1_48.keys())"
   ]
  },
  {
   "cell_type": "code",
   "execution_count": 5,
   "metadata": {},
   "outputs": [
    {
     "name": "stderr",
     "output_type": "stream",
     "text": [
      "100%|██████████| 1433/1433 [00:01<00:00, 1395.14it/s]\n"
     ]
    }
   ],
   "source": [
    "# Load promoter data\n",
    "promoters = promoter_dict(gene_ids) # {FBgn: promoter sequence}\n",
    "gene_ids = list(promoters.keys())\n",
    "prune_by_promoters()"
   ]
  },
  {
   "cell_type": "code",
   "execution_count": 6,
   "metadata": {},
   "outputs": [],
   "source": [
    "# Accessibility (normalized openness score) for each gene at time step t for each replication\n",
    "at_r1 = list(rep1_48.values())\n",
    "at_r2 = list(rep2_48.values())\n",
    "at_r3 = list(rep3_48.values())\n",
    "\n",
    "# Accessibility for each gene at t+1 for each replication (combined)\n",
    "y = [a_g for rep in [rep1_72, rep2_72, rep3_72] for a_g in rep.values()]\n",
    "y_direction = [1 if y[i]-x > 0 else 0 for i, x in enumerate(at_r1+at_r2+at_r3)]\n",
    "\n",
    "# A matrix of promoters in one-hot vector representation. Assumes each promoter is 60 bases long.\n",
    "P = np.stack([utils.seq_to_vec(seq) for seq in promoters.values()])\n",
    "\n",
    "# Dot product of accessibility and promoter sequences\n",
    "# A measure of how strongly each base at each position is associated with openness within the environment\n",
    "atP_r1 = np.dot(at_r1, P)\n",
    "atP_r2 = np.dot(at_r2, P)\n",
    "atP_r3 = np.dot(at_r3, P)"
   ]
  },
  {
   "cell_type": "code",
   "execution_count": 6,
   "metadata": {},
   "outputs": [],
   "source": [
    "# Construct x by appending the environment information atP_r[1-3] with each gene's promoter one-hot vector\n",
    "# We process all the genes in each replication as a batch to keep them in order\n",
    "x = []\n",
    "for rep in [atP_r1, atP_r2, atP_r3]:\n",
    "    for gene in gene_ids:\n",
    "        vec = utils.seq_to_vec(promoters[gene])\n",
    "        x.append(np.append(rep, vec))"
   ]
  },
  {
   "cell_type": "code",
   "execution_count": 7,
   "metadata": {},
   "outputs": [
    {
     "data": {
      "text/plain": [
       "((607, 240), (240,), (1821, 480), 1821)"
      ]
     },
     "execution_count": 7,
     "metadata": {},
     "output_type": "execute_result"
    }
   ],
   "source": [
    "# Sanity check for vector/matrix shapes\n",
    "P.shape, atP_r1.shape, np.stack(x).shape, len(y)"
   ]
  },
  {
   "cell_type": "code",
   "execution_count": 8,
   "metadata": {},
   "outputs": [
    {
     "data": {
      "text/plain": [
       "True"
      ]
     },
     "execution_count": 8,
     "metadata": {},
     "output_type": "execute_result"
    }
   ],
   "source": [
    "# Sanity check for matching up the ordering of genes in x and y\n",
    "gene_ids == list(rep1_48.keys()) == list(rep1_72.keys()) == list(rep2_48.keys()) == list(rep2_72.keys()) == list(rep3_48.keys()) == list(rep3_72.keys())"
   ]
  },
  {
   "cell_type": "markdown",
   "metadata": {},
   "source": [
    "# Model 1"
   ]
  },
  {
   "cell_type": "code",
   "execution_count": 211,
   "metadata": {},
   "outputs": [
    {
     "data": {
      "text/plain": [
       "(480,)"
      ]
     },
     "execution_count": 211,
     "metadata": {},
     "output_type": "execute_result"
    }
   ],
   "source": [
    "# Do linear regression\n",
    "result = np.linalg.lstsq(x, y, rcond=None)[0]\n",
    "result.shape"
   ]
  },
  {
   "cell_type": "code",
   "execution_count": 212,
   "metadata": {},
   "outputs": [
    {
     "data": {
      "text/plain": [
       "(0.00014848078162238424, 8.153804592113358e-08)"
      ]
     },
     "execution_count": 212,
     "metadata": {},
     "output_type": "execute_result"
    }
   ],
   "source": [
    "# Calculate sum squared error, mean squared error\n",
    "sum_sq_err = 0\n",
    "for i in range(len(y)):\n",
    "    pred = np.dot(x[i], result)\n",
    "    sq_err = (y[i] - pred)**2\n",
    "    sum_sq_err += sq_err\n",
    "sum_sq_err, sum_sq_err/len(y)"
   ]
  },
  {
   "cell_type": "code",
   "execution_count": 230,
   "metadata": {},
   "outputs": [
    {
     "name": "stdout",
     "output_type": "stream",
     "text": [
      "sum of squared error: 5.5325150966149795e-05\n",
      "mean squared error: 9.114522399695189e-08\n",
      "max squared error: 3.2643416997500155e-06\n",
      "mean, min, max relative error: 11.443764739787188 0.005832098265878133 64.49497826713385\n",
      "direction accuracy: 0.47775947281713343\n"
     ]
    },
    {
     "data": {
      "image/png": "[encoded data removed]",
      "text/plain": [
       "<Figure size 432x288 with 1 Axes>"
      ]
     },
     "metadata": {
      "needs_background": "light"
     },
     "output_type": "display_data"
    }
   ],
   "source": [
    "# Hold out rep3 to test the model on\n",
    "train_len = len(rep1_48) + len(rep2_48)\n",
    "train_x, test_x = x[:train_len], x[train_len:]\n",
    "train_y, test_y = y[:train_len], y[train_len:]\n",
    "theta = np.linalg.lstsq(train_x, train_y, rcond=None)[0]\n",
    "\n",
    "preds = []\n",
    "sq_errs = []\n",
    "relative_errs = []\n",
    "correct_direction = []\n",
    "for i in range(len(test_y)):\n",
    "    pred = np.dot(test_x[i], theta)\n",
    "    preds.append(pred)\n",
    "    sq_err = (test_y[i] - pred)**2\n",
    "    sq_errs.append(sq_err)\n",
    "    relative_err = abs((test_y[i] - pred))/test_y[i] if test_y[i] > 0 else abs((test_y[i] - pred))/(1e-5)\n",
    "    relative_errs.append(relative_err)\n",
    "    actual_direction = (test_y[i] - at_r3[i]) > 0\n",
    "    pred_direction = (pred - at_r3[i]) > 0\n",
    "    correct_direction.append(1 if actual_direction == pred_direction else 0)\n",
    "\n",
    "plt.xlabel('Actual openness (72hr)')\n",
    "plt.ylabel('Predicted openness (72hr)')\n",
    "plt.title('Actual vs. Predicted Openness')\n",
    "plt.xlim([-0.0005, 0.003])\n",
    "plt.ylim([-0.0003, 0.001])\n",
    "plt.scatter(test_y, preds)\n",
    "print('sum of squared error:', sum(sq_errs))\n",
    "print('mean squared error:', sum(sq_errs)/len(test_y))\n",
    "print('max squared error:', max(sq_errs))\n",
    "print('mean, min, max relative error:', sum(relative_errs)/len(test_y), min(relative_errs), max(relative_errs)) # Relative to the actual value\n",
    "print('direction accuracy:', sum(correct_direction)/len(test_y))"
   ]
  },
  {
   "cell_type": "markdown",
   "metadata": {},
   "source": [
    "## Linear model with bias"
   ]
  },
  {
   "cell_type": "code",
   "execution_count": 13,
   "metadata": {},
   "outputs": [
    {
     "name": "stdout",
     "output_type": "stream",
     "text": [
      "sum of squared error: 5.5325150966149795e-05\n",
      "mean squared error: 9.114522399695189e-08\n",
      "mean, min, max relative error: 11.443764739787188 0.005832098265878133 64.49497826713385\n",
      "direction accuracy: 0.47775947281713343\n"
     ]
    },
    {
     "data": {
      "image/png": "[encoded data removed]",
      "text/plain": [
       "<Figure size 432x288 with 1 Axes>"
      ]
     },
     "metadata": {
      "needs_background": "light"
     },
     "output_type": "display_data"
    }
   ],
   "source": [
    "x = []\n",
    "for rep in [atP_r1, atP_r2, atP_r3]:\n",
    "    for gene in gene_ids:\n",
    "        vec = utils.seq_to_vec(promoters[gene])\n",
    "        x.append(np.append(rep, vec+[1]))\n",
    "        \n",
    "train_len = len(rep1_48) + len(rep2_48)\n",
    "train_x, test_x = x[:train_len], x[train_len:]\n",
    "train_y, test_y = y[:train_len], y[train_len:]\n",
    "theta = np.linalg.lstsq(train_x, train_y, rcond=None)[0]\n",
    "\n",
    "preds = []\n",
    "sq_errs = []\n",
    "relative_errs = []\n",
    "correct_direction = []\n",
    "for i in range(len(test_y)):\n",
    "    pred = np.dot(test_x[i], theta)\n",
    "    preds.append(pred)\n",
    "    sq_err = (test_y[i] - pred)**2\n",
    "    sq_errs.append(sq_err)\n",
    "    relative_err = abs((test_y[i] - pred))/test_y[i] if test_y[i] > 0 else abs((test_y[i] - pred))/(1e-5)\n",
    "    relative_errs.append(relative_err)\n",
    "    actual_direction = (test_y[i] - at_r3[i]) > 0\n",
    "    pred_direction = (pred - at_r3[i]) > 0\n",
    "    correct_direction.append(1 if actual_direction == pred_direction else 0)\n",
    "\n",
    "plt.xlabel('Actual openness (72hr)')\n",
    "plt.ylabel('Predicted openness (72hr)')\n",
    "plt.xlim([-0.0005, 0.003])\n",
    "plt.ylim([-0.0003, 0.001])\n",
    "plt.scatter(test_y, preds)\n",
    "print('sum of squared error:', sum(sq_errs))\n",
    "print('mean squared error:', sum(sq_errs)/len(test_y))\n",
    "print('mean, min, max relative error:', sum(relative_errs)/len(test_y), min(relative_errs), max(relative_errs)) # Relative to the actual value\n",
    "print('direction accuracy:', sum(correct_direction)/len(test_y))"
   ]
  },
  {
   "cell_type": "markdown",
   "metadata": {},
   "source": [
    "## Linear model - x vector weighted by openness of gene"
   ]
  },
  {
   "cell_type": "code",
   "execution_count": 214,
   "metadata": {},
   "outputs": [
    {
     "name": "stdout",
     "output_type": "stream",
     "text": [
      "sum of squared error: 5.492776400981055e-05\n",
      "mean squared error: 9.049055026327932e-08\n",
      "mean, min, max relative error: 10.873460842954835 0.0064115568650360685 63.29493134350984\n",
      "direction accuracy: 0.4827018121911038\n"
     ]
    },
    {
     "data": {
      "image/png": "[encoded data removed]",
      "text/plain": [
       "<Figure size 432x288 with 1 Axes>"
      ]
     },
     "metadata": {
      "needs_background": "light"
     },
     "output_type": "display_data"
    }
   ],
   "source": [
    "x = []\n",
    "for rep in [atP_r1, atP_r2, atP_r3]:\n",
    "    for gene in gene_ids:\n",
    "        vec = utils.seq_to_vec(promoters[gene])\n",
    "        x.append(vec) # Only promoter of interest note: there will be multiple (3) y for a single x!\n",
    "        #x.append([vec[i]*rep[i] for i in range(len(vec))]) # Only promoter of interest element-wise multiplied with env\n",
    "        #x.append(np.append(rep, [vec[i]*rep[i] for i in range(len(vec))])) # env, promoter of interest, element-wise multiply\n",
    "\n",
    "train_len = len(rep1_48) + len(rep2_48)\n",
    "train_x, test_x = x[:train_len], x[train_len:]\n",
    "train_y, test_y = y[:train_len], y[train_len:]\n",
    "theta = np.linalg.lstsq(train_x, train_y, rcond=None)[0]\n",
    "\n",
    "preds = []\n",
    "sq_errs = []\n",
    "relative_errs = []\n",
    "correct_direction = []\n",
    "for i in range(len(test_y)):\n",
    "    pred = np.dot(test_x[i], theta)\n",
    "    preds.append(pred)\n",
    "    sq_err = (test_y[i] - pred)**2\n",
    "    sq_errs.append(sq_err)\n",
    "    relative_err = abs((test_y[i] - pred))/test_y[i] if test_y[i] > 0 else abs((test_y[i] - pred))/(1e-5)\n",
    "    relative_errs.append(relative_err)\n",
    "    actual_direction = (test_y[i] - at_r3[i]) > 0\n",
    "    pred_direction = (pred - at_r3[i]) > 0\n",
    "    correct_direction.append(1 if actual_direction == pred_direction else 0)\n",
    "\n",
    "plt.xlabel('Actual openness (72hr)')\n",
    "plt.ylabel('Predicted openness (72hr)')\n",
    "plt.xlim([-0.0005, 0.003])\n",
    "plt.ylim([-0.0003, 0.001])\n",
    "plt.scatter(test_y, preds)\n",
    "print('sum of squared error:', sum(sq_errs))\n",
    "print('mean squared error:', sum(sq_errs)/len(test_y))\n",
    "print('mean, min, max relative error:', sum(relative_errs)/len(test_y), min(relative_errs), max(relative_errs)) # Relative to the actual value\n",
    "print('direction accuracy:', sum(correct_direction)/len(test_y))"
   ]
  },
  {
   "cell_type": "markdown",
   "metadata": {},
   "source": [
    "## Linear model - spread promoter vector"
   ]
  },
  {
   "cell_type": "code",
   "execution_count": 215,
   "metadata": {},
   "outputs": [
    {
     "name": "stdout",
     "output_type": "stream",
     "text": [
      "sum of squared error: 5.1478864055850894e-05\n",
      "mean squared error: 8.480867225016622e-08\n",
      "mean, min, max relative error: 10.574052367755513 0.009278925672262517 63.632637044630506\n",
      "direction accuracy: 0.4975288303130148\n"
     ]
    },
    {
     "data": {
      "image/png": "[encoded data removed]",
      "text/plain": [
       "<Figure size 432x288 with 1 Axes>"
      ]
     },
     "metadata": {
      "needs_background": "light"
     },
     "output_type": "display_data"
    }
   ],
   "source": [
    "x = []\n",
    "for rep in [atP_r1, atP_r2, atP_r3]:\n",
    "    for gene in gene_ids:\n",
    "        vec = utils.seq_to_vec(promoters[gene])\n",
    "        vec = utils.spread_vec(vec)\n",
    "        x.append(vec) # Only promoter of interest note: there will be multiple (3) y for a single x!\n",
    "        #x.append([vec[i]*rep[i] for i in range(len(vec))]) # Only promoter of interest element-wise multiplied with env\n",
    "        #x.append(np.append(rep, [vec[i]*rep[i] for i in range(len(vec))])) # env, promoter of interest, element-wise multiply\n",
    "\n",
    "train_len = len(rep1_48) + len(rep2_48)\n",
    "train_x, test_x = x[:train_len], x[train_len:]\n",
    "train_y, test_y = y[:train_len], y[train_len:]\n",
    "theta = np.linalg.lstsq(train_x, train_y, rcond=None)[0]\n",
    "\n",
    "preds = []\n",
    "sq_errs = []\n",
    "relative_errs = []\n",
    "correct_direction = []\n",
    "for i in range(len(test_y)):\n",
    "    pred = np.dot(test_x[i], theta)\n",
    "    preds.append(pred)\n",
    "    sq_err = (test_y[i] - pred)**2\n",
    "    sq_errs.append(sq_err)\n",
    "    relative_err = abs((test_y[i] - pred))/test_y[i] if test_y[i] > 0 else abs((test_y[i] - pred))/(1e-5)\n",
    "    relative_errs.append(relative_err)\n",
    "    actual_direction = (test_y[i] - at_r3[i]) > 0\n",
    "    pred_direction = (pred - at_r3[i]) > 0\n",
    "    correct_direction.append(1 if actual_direction == pred_direction else 0)\n",
    "\n",
    "plt.xlabel('Actual openness (72hr)')\n",
    "plt.ylabel('Predicted openness (72hr)')\n",
    "plt.xlim([-0.0005, 0.003])\n",
    "plt.ylim([-0.0003, 0.0012])\n",
    "plt.scatter(test_y, preds)\n",
    "print('sum of squared error:', sum(sq_errs))\n",
    "print('mean squared error:', sum(sq_errs)/len(test_y))\n",
    "print('mean, min, max relative error:', sum(relative_errs)/len(test_y), min(relative_errs), max(relative_errs)) # Relative to the actual value\n",
    "print('direction accuracy:', sum(correct_direction)/len(test_y))"
   ]
  },
  {
   "cell_type": "markdown",
   "metadata": {},
   "source": [
    "# Toggle input variations"
   ]
  },
  {
   "cell_type": "code",
   "execution_count": 111,
   "metadata": {},
   "outputs": [],
   "source": [
    "x = []\n",
    "for rep in [atP_r1, atP_r2, atP_r3]:\n",
    "    for gene in gene_ids:\n",
    "        vec = utils.seq_to_vec(promoters[gene])\n",
    "        vec = utils.spread_vec(vec)\n",
    "        x.append(np.append(rep, vec)) # Original\n",
    "        #x.append(vec) # Only promoter of interest note: there will be multiple (3) y for a single x! TODO: fix this\n",
    "        #x.append([vec[i]*rep[i] for i in range(len(vec))]) # Only promoter of interest element-wise multiplied with env\n",
    "        #x.append(np.append(rep, [vec[i]*rep[i] for i in range(len(vec))])) # env, promoter of interest, element-wise multiply"
   ]
  },
  {
   "cell_type": "markdown",
   "metadata": {},
   "source": [
    "# SVC"
   ]
  },
  {
   "cell_type": "code",
   "execution_count": 112,
   "metadata": {},
   "outputs": [
    {
     "data": {
      "text/plain": [
       "(array([[389,  51],\n",
       "        [141,  26]]),\n",
       " 167)"
      ]
     },
     "execution_count": 112,
     "metadata": {},
     "output_type": "execute_result"
    }
   ],
   "source": [
    "# Using direction of change in openness as class\n",
    "train_len = len(rep1_48) + len(rep2_48)\n",
    "train_x, test_x = x[:train_len], x[train_len:]\n",
    "train_y, test_y = y_direction[:train_len], y_direction[train_len:]\n",
    "\n",
    "clf = svm.SVC(gamma='scale')\n",
    "clf.fit(train_x, train_y)\n",
    "\n",
    "pred_y = [clf.predict(np.array(x).reshape(1, -1)) for x in test_x]\n",
    "confusion_matrix(test_y, pred_y), sum(test_y)"
   ]
  },
  {
   "cell_type": "markdown",
   "metadata": {},
   "source": [
    "# SVR"
   ]
  },
  {
   "cell_type": "code",
   "execution_count": 99,
   "metadata": {},
   "outputs": [
    {
     "data": {
      "text/plain": [
       "SVR(C=100, cache_size=200, coef0=0.0, degree=8, epsilon=0.1, gamma='scale',\n",
       "  kernel='poly', max_iter=-1, shrinking=True, tol=0.001, verbose=False)"
      ]
     },
     "execution_count": 99,
     "metadata": {},
     "output_type": "execute_result"
    }
   ],
   "source": [
    "train_len = len(rep1_48) + len(rep2_48)\n",
    "train_x, test_x = x[:train_len], x[train_len:]\n",
    "train_y, test_y = y[:train_len], y[train_len:]\n",
    "\n",
    "clf = svm.SVR(kernel='poly', degree=8, gamma='scale', C=100)\n",
    "clf.fit(train_x, train_y)"
   ]
  },
  {
   "cell_type": "code",
   "execution_count": 100,
   "metadata": {},
   "outputs": [
    {
     "name": "stdout",
     "output_type": "stream",
     "text": [
      "sum of squared error: 0.0012823311877500003\n",
      "mean squared error: 2.1125719732289955e-06\n",
      "mean, min, max relative error: 94.12520036840475 0.010910224438904192 197.31249999999972\n",
      "direction accuracy: 0.2981878088962109\n"
     ]
    },
    {
     "data": {
      "image/png": "[encoded data removed]",
      "text/plain": [
       "<Figure size 432x288 with 1 Axes>"
      ]
     },
     "metadata": {
      "needs_background": "light"
     },
     "output_type": "display_data"
    }
   ],
   "source": [
    "preds = [clf.predict(np.array(x).reshape(1, -1))[0] for x in test_x]\n",
    "sq_errs = []\n",
    "relative_errs = []\n",
    "correct_direction = []\n",
    "for i in range(len(test_y)):\n",
    "    pred = preds[i]\n",
    "    sq_err = (test_y[i] - pred)**2\n",
    "    sq_errs.append(sq_err)\n",
    "    relative_err = abs((test_y[i] - pred))/test_y[i] if test_y[i] > 0 else abs((test_y[i] - pred))/(1e-5)\n",
    "    relative_errs.append(relative_err)\n",
    "    actual_direction = (test_y[i] - at_r3[i]) > 0\n",
    "    pred_direction = (pred - at_r3[i]) > 0\n",
    "    correct_direction.append(1 if actual_direction == pred_direction else 0)\n",
    "\n",
    "plt.xlabel('Actual openness (72hr)')\n",
    "plt.ylabel('Predicted openness (72hr)')\n",
    "plt.xlim([-0.001, 0.003])\n",
    "plt.ylim([0, 0.002])\n",
    "plt.scatter(test_y, preds)\n",
    "print('sum of squared error:', sum(sq_errs))\n",
    "print('mean squared error:', sum(sq_errs)/len(test_y))\n",
    "print('mean, min, max relative error:', sum(relative_errs)/len(test_y), min(relative_errs), max(relative_errs)) # Relative to the actual value\n",
    "print('direction accuracy:', sum(correct_direction)/len(test_y))"
   ]
  },
  {
   "cell_type": "code",
   "execution_count": 72,
   "metadata": {},
   "outputs": [
    {
     "name": "stderr",
     "output_type": "stream",
     "text": [
      "100%|██████████| 100/100 [00:04<00:00, 20.04it/s]\n"
     ]
    }
   ],
   "source": [
    "mean_sq_err = []\n",
    "mean_relative_err = []\n",
    "direction_accuracy = []\n",
    "degree = range(1, 101)\n",
    "for i in tqdm(degree):\n",
    "    clf = svm.SVR(kernel='poly', gamma='scale', degree=i)\n",
    "    clf.fit(train_x, train_y)\n",
    "    preds = [clf.predict(np.array(x).reshape(1, -1))[0] for x in test_x]\n",
    "    sq_errs = []\n",
    "    relative_errs = []\n",
    "    correct_direction = []\n",
    "    for i in range(len(test_y)):\n",
    "        pred = preds[i]\n",
    "        sq_err = (test_y[i] - pred)**2\n",
    "        sq_errs.append(sq_err)\n",
    "        relative_err = abs((test_y[i] - pred))/test_y[i] if test_y[i] > 0 else abs((test_y[i] - pred))/(1e-5)\n",
    "        relative_errs.append(relative_err)\n",
    "        actual_direction = (test_y[i] - at_r3[i]) > 0\n",
    "        pred_direction = (pred - at_r3[i]) > 0\n",
    "        correct_direction.append(1 if actual_direction == pred_direction else 0)\n",
    "    mean_sq_err.append(sum(sq_errs)/len(test_y))\n",
    "    mean_relative_err.append(sum(relative_errs)/len(test_y))\n",
    "    direction_accuracy.append(sum(correct_direction)/len(test_y))"
   ]
  },
  {
   "cell_type": "code",
   "execution_count": 73,
   "metadata": {},
   "outputs": [
    {
     "data": {
      "text/plain": [
       "[<matplotlib.lines.Line2D at 0x7f9f60753080>]"
      ]
     },
     "execution_count": 73,
     "metadata": {},
     "output_type": "execute_result"
    },
    {
     "data": {
      "image/png": "[encoded data removed]",
      "text/plain": [
       "<Figure size 432x288 with 1 Axes>"
      ]
     },
     "metadata": {
      "needs_background": "light"
     },
     "output_type": "display_data"
    }
   ],
   "source": [
    "plt.plot(degree, mean_sq_err)"
   ]
  },
  {
   "cell_type": "code",
   "execution_count": 74,
   "metadata": {},
   "outputs": [
    {
     "data": {
      "text/plain": [
       "[<matplotlib.lines.Line2D at 0x7f9f5efa8908>]"
      ]
     },
     "execution_count": 74,
     "metadata": {},
     "output_type": "execute_result"
    },
    {
     "data": {
      "image/png": "[encoded data removed]",
      "text/plain": [
       "<Figure size 432x288 with 1 Axes>"
      ]
     },
     "metadata": {
      "needs_background": "light"
     },
     "output_type": "display_data"
    }
   ],
   "source": [
    "plt.plot(degree, mean_relative_err)"
   ]
  },
  {
   "cell_type": "code",
   "execution_count": 75,
   "metadata": {
    "scrolled": true
   },
   "outputs": [
    {
     "data": {
      "text/plain": [
       "[<matplotlib.lines.Line2D at 0x7f9f5eab1160>]"
      ]
     },
     "execution_count": 75,
     "metadata": {},
     "output_type": "execute_result"
    },
    {
     "data": {
      "image/png": "[encoded data removed]",
      "text/plain": [
       "<Figure size 432x288 with 1 Axes>"
      ]
     },
     "metadata": {
      "needs_background": "light"
     },
     "output_type": "display_data"
    }
   ],
   "source": [
    "plt.plot(degree, direction_accuracy)"
   ]
  },
  {
   "cell_type": "markdown",
   "metadata": {},
   "source": [
    "# MLP Classifier"
   ]
  },
  {
   "cell_type": "code",
   "execution_count": 104,
   "metadata": {},
   "outputs": [
    {
     "name": "stderr",
     "output_type": "stream",
     "text": [
      "/Library/Frameworks/Python.framework/Versions/3.7/lib/python3.7/site-packages/sklearn/neural_network/multilayer_perceptron.py:562: ConvergenceWarning: Stochastic Optimizer: Maximum iterations (200) reached and the optimization hasn't converged yet.\n",
      "  % self.max_iter, ConvergenceWarning)\n"
     ]
    }
   ],
   "source": [
    "train_len = len(rep1_48) + len(rep2_48)\n",
    "train_x, test_x = x[:train_len], x[train_len:]\n",
    "train_y, test_y = y_direction[:train_len], y_direction[train_len:]\n",
    "\n",
    "clf = MLPClassifier([10, 5])\n",
    "clf.fit(train_x, train_y)\n",
    "pred_y = [clf.predict(np.array(x).reshape(1, -1)) for x in test_x]"
   ]
  },
  {
   "cell_type": "code",
   "execution_count": 105,
   "metadata": {},
   "outputs": [
    {
     "data": {
      "text/plain": [
       "(array([[230, 210],\n",
       "        [ 86,  81]]),\n",
       " 0.5123558484349259)"
      ]
     },
     "execution_count": 105,
     "metadata": {},
     "output_type": "execute_result"
    }
   ],
   "source": [
    "cm = confusion_matrix(test_y, pred_y)\n",
    "cm, (cm[0][0]+cm[1][1])/len(test_y)"
   ]
  },
  {
   "cell_type": "markdown",
   "metadata": {},
   "source": [
    "# MLP Regressor"
   ]
  },
  {
   "cell_type": "code",
   "execution_count": 124,
   "metadata": {},
   "outputs": [
    {
     "name": "stdout",
     "output_type": "stream",
     "text": [
      "sum of squared error: 0.7562731469309287\n",
      "mean squared error: 0.0012459195171843965\n",
      "mean, min, max relative error: 1749.3769046668717 0.09837758114523719 11323.094031105102\n",
      "direction accuracy: 0.5123558484349259\n"
     ]
    },
    {
     "data": {
      "image/png": "[encoded data removed]",
      "text/plain": [
       "<Figure size 432x288 with 1 Axes>"
      ]
     },
     "metadata": {
      "needs_background": "light"
     },
     "output_type": "display_data"
    }
   ],
   "source": [
    "train_len = len(rep1_48) + len(rep2_48)\n",
    "train_x, test_x = x[:train_len], x[train_len:]\n",
    "train_y, test_y = y[:train_len], y[train_len:]\n",
    "\n",
    "clf = MLPRegressor([10, 5, 3], activation='relu')\n",
    "clf.fit(train_x, train_y)\n",
    "\n",
    "preds = [clf.predict(np.array(x).reshape(1, -1))[0] for x in test_x]\n",
    "sq_errs = []\n",
    "relative_errs = []\n",
    "correct_direction = []\n",
    "for i in range(len(test_y)):\n",
    "    pred = preds[i]\n",
    "    sq_err = (test_y[i] - pred)**2\n",
    "    sq_errs.append(sq_err)\n",
    "    relative_err = abs((test_y[i] - pred))/test_y[i] if test_y[i] > 0 else abs((test_y[i] - pred))/(1e-5)\n",
    "    relative_errs.append(relative_err)\n",
    "    actual_direction = (test_y[i] - at_r3[i]) > 0\n",
    "    pred_direction = (pred - at_r3[i]) > 0\n",
    "    correct_direction.append(1 if actual_direction == pred_direction else 0)\n",
    "\n",
    "plt.xlabel('Actual openness (72hr)')\n",
    "plt.ylabel('Predicted openness (72hr)')\n",
    "# plt.xlim([-0.001, 0.001])\n",
    "# plt.ylim([-0.01, 0.01])\n",
    "plt.scatter(test_y, preds)\n",
    "print('sum of squared error:', sum(sq_errs))\n",
    "print('mean squared error:', sum(sq_errs)/len(test_y))\n",
    "print('mean, min, max relative error:', sum(relative_errs)/len(test_y), min(relative_errs), max(relative_errs)) # Relative to the actual value\n",
    "print('direction accuracy:', sum(correct_direction)/len(test_y))"
   ]
  },
  {
   "cell_type": "markdown",
   "metadata": {},
   "source": [
    "# Linear promoter model with softplus"
   ]
  },
  {
   "cell_type": "code",
   "execution_count": 221,
   "metadata": {},
   "outputs": [
    {
     "name": "stdout",
     "output_type": "stream",
     "text": [
      "sum of squared error: 6.833779545238466e-05\n",
      "mean squared error: 1.1258285906488411e-07\n",
      "mean, min, max relative error: 1.650131051605487 0.0035685302774347183 24.14287778432537\n",
      "direction accuracy: 0.5205930807248764\n"
     ]
    },
    {
     "data": {
      "image/png": "[encoded data removed]",
      "text/plain": [
       "<Figure size 432x288 with 1 Axes>"
      ]
     },
     "metadata": {
      "needs_background": "light"
     },
     "output_type": "display_data"
    }
   ],
   "source": [
    "x = []\n",
    "for rep in [atP_r1, atP_r2, atP_r3]:\n",
    "    for gene in gene_ids:\n",
    "        vec = utils.seq_to_vec(promoters[gene])\n",
    "        #vec = utils.spread_vec(vec)\n",
    "        x.append(np.append(rep*10, vec+[1]))\n",
    "        #x.append(vec) # Only promoter of interest note: there will be multiple (3) y for a single x!\n",
    "        #x.append([vec[i]*rep[i] for i in range(len(vec))]) # Only promoter of interest element-wise multiplied with env\n",
    "        #x.append(np.append(rep, np.append(vec, [vec[i]*rep[i] for i in range(len(vec))]))) # env, promoter of interest, element-wise multiply\n",
    "\n",
    "y_spinv = [float(tfp.math.softplus_inverse((100*Y)+(4.518e-5))) for Y in y]\n",
    "        \n",
    "train_len = len(rep1_48) + len(rep2_48)\n",
    "train_x, test_x = x[:train_len], x[train_len:]\n",
    "train_y, test_y = y_spinv[:train_len], y[train_len:]\n",
    "theta = np.linalg.lstsq(train_x, train_y, rcond=None)[0]\n",
    "\n",
    "preds = []\n",
    "sq_errs = []\n",
    "relative_errs = []\n",
    "correct_direction = []\n",
    "for i in range(len(test_y)):\n",
    "    pred = np.dot(test_x[i], theta)\n",
    "    #pred = abs(float(tf.math.softplus(pred))-1) # taking absolute value or reLU doesn't change performance\n",
    "    pred = (float((tf.math.softplus(pred)))-(4.518e-5))/100\n",
    "    preds.append(pred)\n",
    "    sq_err = (test_y[i] - pred)**2\n",
    "    sq_errs.append(sq_err)\n",
    "    relative_err = abs((test_y[i] - pred))/test_y[i] if test_y[i] > 0 else abs((test_y[i] - pred))/(1e-5)\n",
    "    relative_errs.append(relative_err)\n",
    "    actual_direction = (test_y[i] - at_r3[i]) > 0\n",
    "    pred_direction = (pred - at_r3[i]) > 0\n",
    "    correct_direction.append(1 if actual_direction == pred_direction else 0)\n",
    "\n",
    "plt.xlabel('Actual openness (72hr)')\n",
    "plt.ylabel('Predicted openness (72hr)')\n",
    "plt.xlim([-0.0003, 0.0025])\n",
    "plt.ylim([-0.0003, 0.0025])\n",
    "plt.scatter(test_y, preds)\n",
    "print('sum of squared error:', sum(sq_errs))\n",
    "print('mean squared error:', sum(sq_errs)/len(test_y))\n",
    "print('mean, min, max relative error:', sum(relative_errs)/len(test_y), min(relative_errs), max(relative_errs)) # Relative to the actual value\n",
    "print('direction accuracy:', sum(correct_direction)/len(test_y))"
   ]
  },
  {
   "cell_type": "markdown",
   "metadata": {},
   "source": [
    "# Gradient Descent with softplus"
   ]
  },
  {
   "cell_type": "code",
   "execution_count": 228,
   "metadata": {},
   "outputs": [
    {
     "name": "stderr",
     "output_type": "stream",
     "text": [
      "  0%|          | 0/1000 [00:00<?, ?it/s]/Users/OliviaFlynn/Library/Python/3.7/lib/python/site-packages/ipykernel_launcher.py:14: UserWarning: To copy construct from a tensor, it is recommended to use sourceTensor.clone().detach() or sourceTensor.clone().detach().requires_grad_(True), rather than torch.tensor(sourceTensor).\n",
      "  \n",
      "]00%|██████████| 1000/1000 [05:03<00:00,  3.29it/s, cost: 25.7542724\n"
     ]
    }
   ],
   "source": [
    "# Training\n",
    "\n",
    "# Prepare input\n",
    "x = []\n",
    "for rep in [atP_r1, atP_r2, atP_r3]:\n",
    "    for gene in gene_ids:\n",
    "        vec = utils.seq_to_vec(promoters[gene])\n",
    "        #vec = utils.spread_vec(vec)\n",
    "        x.append(np.append(rep*10, vec+[1]))\n",
    "        #x.append(vec) # Only promoter of interest note: there will be multiple (3) y for a single x!\n",
    "        #x.append([vec[i]*rep[i] for i in range(len(vec))]) # Only promoter of interest element-wise multiplied with env\n",
    "        #x.append(np.append(rep, np.append(vec, [vec[i]*rep[i] for i in range(len(vec))]))) # env, promoter of interest, element-wise multiply\n",
    "\n",
    "def softplus(x): return tr.log(1 + tr.exp(x))\n",
    "def single_cost(x, y, theta):\n",
    "    y_est = (softplus(tr.dot(tr.tensor(x), theta))/100)-4.5418e-5\n",
    "    err = y - y_est\n",
    "    denominator = max(y, 1e-5)\n",
    "    return err**2/denominator\n",
    "\n",
    "train_len = len(rep1_48) + len(rep2_48)\n",
    "train_x, test_x = tr.tensor(x[:train_len]).float(), tr.tensor(x[train_len:]).float()\n",
    "train_y, test_y = tr.tensor(y[:train_len]).float(), tr.tensor(y[train_len:]).float()\n",
    "theta = tr.randn(len(x[0])) # Randomly intialize theta vector\n",
    "#theta = tr.tensor(theta).float() # Use the theta fit from the linear softplus model\n",
    "theta.requires_grad_()\n",
    "\n",
    "# Train theta\n",
    "cost_plot = []\n",
    "pbar = tqdm(range(1000))\n",
    "for itr in pbar:\n",
    "    # Calculate cost\n",
    "    costs = [single_cost(train_x[i], train_y[i], theta) for i in range(len(train_x))]\n",
    "    costs = tr.stack(costs)\n",
    "    cost = tr.sum(costs)\n",
    "    cost_plot.append(float(cost.data))\n",
    "    pbar.set_postfix_str('cost: %f\\r' % cost)\n",
    "    \n",
    "    # Update theta\n",
    "    cost.backward()\n",
    "    theta.data -= 1e-6*theta.grad\n",
    "    theta.grad *= 0\n",
    "pbar.close()"
   ]
  },
  {
   "cell_type": "code",
   "execution_count": 229,
   "metadata": {},
   "outputs": [
    {
     "name": "stderr",
     "output_type": "stream",
     "text": [
      "/Users/OliviaFlynn/Library/Python/3.7/lib/python/site-packages/ipykernel_launcher.py:8: UserWarning: To copy construct from a tensor, it is recommended to use sourceTensor.clone().detach() or sourceTensor.clone().detach().requires_grad_(True), rather than torch.tensor(sourceTensor).\n",
      "  \n"
     ]
    },
    {
     "name": "stdout",
     "output_type": "stream",
     "text": [
      "sum of squared error: tensor(9.0747e-05)\n",
      "mean squared error: tensor(1.4950e-07)\n",
      "mean, min, max relative error: tensor(3.5319) tensor(0.4522) tensor(123.7081)\n",
      "direction accuracy: 0.71334431630972\n"
     ]
    },
    {
     "data": {
      "image/png": "[encoded data removed]",
      "text/plain": [
       "<Figure size 432x288 with 1 Axes>"
      ]
     },
     "metadata": {
      "needs_background": "light"
     },
     "output_type": "display_data"
    }
   ],
   "source": [
    "# Evaluation\n",
    "preds = []\n",
    "sq_errs = []\n",
    "relative_errs = []\n",
    "correct_direction = []\n",
    "for i in range(len(test_y)):\n",
    "    pred = float((softplus(tr.dot(tr.tensor(test_x[i]).float(), theta))/100)-4.5418e-5)\n",
    "    preds.append(float(pred))\n",
    "    sq_err = (test_y[i] - pred)**2\n",
    "    sq_errs.append(sq_err)\n",
    "    relative_err = abs((test_y[i] - pred))/test_y[i] if test_y[i] > 0 else abs((test_y[i] - pred))/(1e-5)\n",
    "    relative_errs.append(relative_err)\n",
    "    actual_direction = (test_y[i] - at_r3[i]) > 0\n",
    "    pred_direction = (pred - at_r3[i]) > 0\n",
    "    correct_direction.append(1 if actual_direction == pred_direction else 0)\n",
    "\n",
    "plt.xlabel('Actual openness (72hr)')\n",
    "plt.ylabel('Predicted openness (72hr)')\n",
    "plt.xlim([-0.0003, 0.0025])\n",
    "plt.ylim([-0.0003, 0.0025])\n",
    "plt.scatter(test_y, preds)\n",
    "print('sum of squared error:', sum(sq_errs))\n",
    "print('mean squared error:', sum(sq_errs)/len(test_y))\n",
    "print('mean, min, max relative error:', sum(relative_errs)/len(test_y), min(relative_errs), max(relative_errs)) # Relative to the actual value\n",
    "print('direction accuracy:', sum(correct_direction)/len(test_y))"
   ]
  },
  {
   "cell_type": "code",
   "execution_count": 220,
   "metadata": {},
   "outputs": [
    {
     "data": {
      "text/plain": [
       "[<matplotlib.lines.Line2D at 0x7fb115d14e48>]"
      ]
     },
     "execution_count": 220,
     "metadata": {},
     "output_type": "execute_result"
    },
    {
     "data": {
      "image/png": "[encoded data removed]",
      "text/plain": [
       "<Figure size 432x288 with 1 Axes>"
      ]
     },
     "metadata": {
      "needs_background": "light"
     },
     "output_type": "display_data"
    }
   ],
   "source": [
    "plt.plot(range(1, (len(cost_plot))+1), cost_plot)"
   ]
  },
  {
   "cell_type": "markdown",
   "metadata": {},
   "source": [
    "# Scratch work"
   ]
  },
  {
   "cell_type": "code",
   "execution_count": 221,
   "metadata": {},
   "outputs": [
    {
     "data": {
      "text/plain": [
       "('--------------T-----T--TA----T------------TA-CAGTCA-TA-T--A-',\n",
       " '------------------------------------------------T-A---------',\n",
       " '-----T--------T---------AA--------A--T----TACCAGTCA---------')"
      ]
     },
     "execution_count": 221,
     "metadata": {},
     "output_type": "execute_result"
    }
   ],
   "source": [
    "# Representative sequences for each replication\n",
    "threshold = 0.04\n",
    "utils.floatvec_to_seq(atP_r1, threshold), utils.floatvec_to_seq(atP_r2, threshold), utils.floatvec_to_seq(atP_r3, threshold)"
   ]
  },
  {
   "cell_type": "code",
   "execution_count": 227,
   "metadata": {},
   "outputs": [
    {
     "data": {
      "text/plain": [
       "('-G-G-A-A-G-G-G-A-A-G-G-G-G-A-G-G-G-A-A-A-A-A-G-A-A-G-A-G-A-A', '')"
      ]
     },
     "execution_count": 227,
     "metadata": {},
     "output_type": "execute_result"
    }
   ],
   "source": [
    "threshold = 4e-04\n",
    "utils.floatvec_to_seq(theta[:240], threshold), utils.floatvec_to_seq(theta[240:], threshold)"
   ]
  },
  {
   "cell_type": "code",
   "execution_count": 224,
   "metadata": {},
   "outputs": [
    {
     "data": {
      "text/plain": [
       "(-0.14000768378260373, 0.13991922719388766)"
      ]
     },
     "execution_count": 224,
     "metadata": {},
     "output_type": "execute_result"
    }
   ],
   "source": [
    "min(theta), max(theta)"
   ]
  },
  {
   "cell_type": "code",
   "execution_count": 71,
   "metadata": {
    "collapsed": true
   },
   "outputs": [
    {
     "name": "stderr",
     "output_type": "stream",
     "text": [
      "/Users/OliviaFlynn/Library/Python/3.7/lib/python/site-packages/ipykernel_launcher.py:11: UserWarning: To copy construct from a tensor, it is recommended to use sourceTensor.clone().detach() or sourceTensor.clone().detach().requires_grad_(True), rather than torch.tensor(sourceTensor).\n",
      "  # This is added back by InteractiveShellApp.init_path()\n"
     ]
    },
    {
     "data": {
      "text/plain": [
       "(tensor(3043953.2500, grad_fn=<SumBackward0>),\n",
       " tensor([193745.3594, 178441.7188, 134401.9844, 114203.9609, 146080.8594,\n",
       "         183210.5781, 143699.0312, 147802.4375, 197849.1406, 201927.0781,\n",
       "         109462.9062, 111553.8828, 133285.1719, 162409.5312, 185273.0781,\n",
       "         139825.2188, 170113.8750, 183144.9844, 136166.6406, 131367.4688,\n",
       "         165749.7656, 196530.3594, 121317.9766, 137195.0625, 162856.7500,\n",
       "         157074.9219, 159313.9062, 141547.5625, 185685.3594, 147643.2344,\n",
       "         156010.9219, 131453.4531, 156747.4844, 175612.9688, 154917.7188,\n",
       "         133514.9688, 181193.4531, 131239.5781, 159633.7812, 148725.9531,\n",
       "         180242.1719, 178963.4531, 126953.7344, 134633.4219, 174927.6250,\n",
       "         158473.4844, 150964.3906, 136427.6250, 179798.3438, 189864.2812,\n",
       "         146160.1250, 104970.2969, 167280.3438, 180260.1406, 156582.3594,\n",
       "         116670.0781, 112149.9297, 272260.8125, 121985.4219, 114396.7891,\n",
       "         158034.4375, 179503.3281, 143740.7812, 139514.4844, 175780.0938,\n",
       "         153841.2344, 131750.2969, 159421.2656, 139526.3906, 146223.3281,\n",
       "         183068.5156, 151974.7344, 178880.5625, 172945.0469, 150385.4688,\n",
       "         118581.9922, 161682.6562, 157814.6719, 144897.3594, 156398.3750,\n",
       "         144595.4531, 231693.2969, 149986.9062,  94517.1016, 181884.0781,\n",
       "         135630.1562, 145792.5469, 157486.2656, 199773.9531, 158381.7969,\n",
       "         165424.8750,  97212.5156, 161647.1250, 227839.7188, 128736.1328,\n",
       "         102570.1719, 228621.1562, 142299.2812, 120275.1406, 129597.3828,\n",
       "         220802.5312, 178246.0312,  98042.5391, 123701.8594, 119409.9766,\n",
       "         166688.5781, 204248.7344, 130446.0000, 164501.2812, 132397.0000,\n",
       "         143901.2031, 179993.5000, 173233.8125, 143392.0625, 159052.7812,\n",
       "         145114.2344, 167982.1250, 222835.9844, 114787.1250, 115187.7266,\n",
       "         161266.5312, 195393.1094, 108943.2188, 155190.2031, 152762.6406,\n",
       "         195817.5781, 158266.8750, 113945.9375, 183670.4219, 154888.3906,\n",
       "         144898.9688, 137335.2969, 167899.7812, 173855.9688, 102844.0156,\n",
       "         176193.0781, 197710.4688, 146822.0469, 143027.5625, 133232.9062,\n",
       "         156098.8594, 159699.8750, 148716.5000, 156277.8438, 154386.5156,\n",
       "         174714.7188, 142276.4062, 149415.2969, 145103.5781, 176221.1562,\n",
       "         147565.0469, 151903.3125, 185816.4844, 157126.8281, 179772.1875,\n",
       "          98077.4375, 176843.3125, 135688.6094, 170708.3281, 137552.7031,\n",
       "         176573.5156, 140942.6719, 185882.6719, 117394.0547, 192450.6094,\n",
       "         172457.6406, 115927.6875, 139956.9375, 137096.2969, 256038.8594,\n",
       "         112331.2344, 115326.6953, 238589.7969, 133875.5000, 100150.2500,\n",
       "         148177.6875, 192100.6250,  78875.7578, 211471.0469, 138345.5781,\n",
       "         174884.4688, 138191.2500, 209148.5312,  98568.7578, 238241.1875,\n",
       "         119212.1250,  96919.0000, 166420.4531, 219079.4688,  92014.1562,\n",
       "          35762.0547, 273937.3438,  57993.4844, 410555.7188,  89534.8828,\n",
       "          62709.0898,  96835.0234, 167211.5469, 280101.8750,  76644.6719,\n",
       "         372123.1562, 102384.3750,  53168.7148,  93116.4844, 171954.7969,\n",
       "         155354.8125,  95567.3125, 197916.1250, 191840.3594, 201430.5156,\n",
       "         107053.8047, 120468.0938, 203879.0312, 147769.3594, 163541.9219,\n",
       "         105602.6562, 157457.4688, 190417.9219, 129536.9297, 143380.7656,\n",
       "         181444.5000, 208564.8125, 139971.0938,  90812.4766, 195161.1875,\n",
       "         183488.7500,  92895.4688, 149247.6094, 203608.7500, 182285.0781,\n",
       "         131292.0625, 103607.1797, 207194.1719, 175371.6562, 111917.7031,\n",
       "         126309.5938, 187183.8750, 173045.8281, 148887.8438, 111675.3125,\n",
       "         146369.1406, 132277.8906, 152476.0469, 146536.6875, 142271.2969,\n",
       "         152280.6875,  93466.5859, 189641.2188, 163131.1562, 134785.1875,\n",
       "         106933.8672, 172809.5469,  95928.6484, 166926.4375, 158904.7500,\n",
       "         155900.0625, 148779.2031, 142614.0312, 178395.4062, 107871.1797,\n",
       "         185607.2031, 147159.0156,  85281.0156, 159612.5625, 187377.2500,\n",
       "          92610.9062, 180461.9844, 117209.7031, 142545.3594, 138365.7500,\n",
       "         115619.5859, 181129.0938, 104125.3281, 129813.7031, 163152.7188,\n",
       "         180568.0469, 117318.2891, 137310.2500, 219391.4219, 103639.8906,\n",
       "         183461.9688,  92614.9297, 100032.8750, 201549.9844, 129809.3672,\n",
       "         133541.8438, 136242.9062, 178065.5781, 119469.2266, 187669.5000,\n",
       "         139382.7188, 131138.3750, 112623.7578, 166254.2500, 143335.1562,\n",
       "         155446.6406,  96966.2266, 146140.9062, 231398.0312, 103154.6719,\n",
       "         120485.6016, 179237.1875, 143357.2812, 134579.6875, 150423.5781,\n",
       "         107590.1641, 183490.8906, 136155.1250, 183232.1406, 116537.1172,\n",
       "         125327.5938, 152563.0000, 156337.9062, 178793.4688, 120820.8203,\n",
       "         121707.5547, 151981.1719, 150064.9531, 106047.2266, 169566.4844,\n",
       "         162092.5312, 180752.1250, 122709.9219, 112105.1875, 118138.7266,\n",
       "         166572.2031, 136587.0312, 156361.8125, 134964.0312,  95568.9688,\n",
       "         157987.7812, 189138.9688, 156773.4219, 165154.6250, 118221.1094,\n",
       "         137510.7031, 196125.7656, 127093.1875, 176503.6406,  77937.2109,\n",
       "         190443.4531, 124598.1250, 154051.6406, 108566.5938, 217922.0156,\n",
       "         112746.4219, 148176.3906,  98815.0000, 122639.2578, 116989.5078,\n",
       "         177794.6094, 160236.4844, 169604.8594, 180356.2344,  83867.5625,\n",
       "         143831.1094, 188595.4062, 137252.3594, 135718.1094, 116094.0078,\n",
       "         130378.0000, 179104.7031, 125090.4922, 143086.6250, 158893.3594,\n",
       "         145712.9531, 116820.0547, 156233.4219, 187787.2031, 146992.0938,\n",
       "         111070.4609, 131810.0000, 135235.9688, 110112.6953, 167192.1719,\n",
       "         165118.9062, 172382.8906, 123060.3047, 117928.8984, 164287.6875,\n",
       "         222442.8125, 115826.3438, 140113.1250,  99277.5234, 196168.4219,\n",
       "          83433.5234, 155917.0781, 142140.8594, 144694.7188, 151134.0312,\n",
       "         104809.8359, 177021.1719, 169253.3281,  98780.6641, 160943.1094,\n",
       "         148682.7188, 171366.4062,  98822.8359, 143372.1562, 164098.4375,\n",
       "         173789.4688, 145387.9844,  94363.1328, 164119.2500, 273623.8125,\n",
       "         145398.0312,  62118.7227,  96519.3281, 130416.4531, 200522.2969,\n",
       "         118836.1641, 127884.8828, 201748.1719, 153077.7656,  88545.9844,\n",
       "         134287.9062, 104277.9609, 127924.1250, 137090.0938, 208367.6250,\n",
       "         125898.6406, 137381.1094, 199720.6562, 114659.3594, 220038.3125,\n",
       "         162605.6406,  90469.3438, 104546.6719, 182758.4688, 105612.1641,\n",
       "          71087.8047, 218201.3906,  30642.3281, 378352.3438,  67153.9688,\n",
       "         101511.3984,  61143.5078, 192323.5781, 258118.9531,  66073.8594,\n",
       "         346248.6875,  83129.1562,  31596.1035, 116685.9141, 210576.9688,\n",
       "          73170.4453,  27069.0625, 266843.3750, 207773.8750, 220579.6562,\n",
       "          62377.0078,  86929.3672, 113963.1016, 210576.6562, 107388.7109,\n",
       "         145731.3594, 158089.0469, 179695.4375, 105296.8047, 134578.5000,\n",
       "         126585.6953, 241198.7031, 102581.4766, 107294.0234, 232562.9219,\n",
       "         148559.5625,  88114.8906, 108422.5234, 167766.0156, 148551.6094,\n",
       "          81245.8203, 180096.3438, 158966.7031, 221132.6875, 115300.0703,\n",
       "          82260.3594, 117739.7031, 194615.5625, 148066.5938, 117237.9062,\n",
       "         577659.3750]))"
      ]
     },
     "execution_count": 71,
     "metadata": {},
     "output_type": "execute_result"
    }
   ],
   "source": [
    "x = []\n",
    "for rep in [atP_r1, atP_r2, atP_r3]:\n",
    "    for gene in gene_ids:\n",
    "        vec = utils.seq_to_vec(promoters[gene])\n",
    "        #vec = utils.spread_vec(vec)\n",
    "        x.append(np.append(rep, vec+[1]))\n",
    "#theta = tr.randn(len(x[0])) # Randomly intialize theta vector\n",
    "#theta.requires_grad_()\n",
    "\n",
    "def single_cost(x, y):\n",
    "    y_est = softplus(max(tr.dot(tr.tensor(x), theta), tr.tensor(-11.8)))/10\n",
    "    err = y - y_est\n",
    "    denominator = max(y.data, 9e-6)\n",
    "    return (err**2)/(1 if denominator == 9e-6 else denominator)\n",
    "    \n",
    "costs = [single_cost(train_x[i].float(), train_y[i]).float() for i in range(len(train_x))]\n",
    "costs = tr.stack(costs)\n",
    "\n",
    "cost = tr.sum(costs)\n",
    "cost.backward()\n",
    "cost, theta.grad"
   ]
  },
  {
   "cell_type": "code",
   "execution_count": 9,
   "metadata": {
    "collapsed": true
   },
   "outputs": [
    {
     "name": "stdout",
     "output_type": "stream",
     "text": [
      "tensor(-7.9145, grad_fn=<DotBackward>)\n"
     ]
    },
    {
     "data": {
      "text/plain": [
       "(tensor(6.3505e-09, grad_fn=<SumBackward0>),\n",
       " tensor([-2.2353e-09, -2.1091e-09, -1.4859e-09, -1.2302e-09, -1.6928e-09,\n",
       "         -2.0124e-09, -1.7302e-09, -1.6252e-09, -2.1403e-09, -2.2804e-09,\n",
       "         -1.3025e-09, -1.3374e-09, -1.6614e-09, -1.8459e-09, -2.1509e-09,\n",
       "         -1.4023e-09, -1.8528e-09, -2.0331e-09, -1.4886e-09, -1.6862e-09,\n",
       "         -1.8934e-09, -2.0474e-09, -1.4080e-09, -1.7119e-09, -1.7984e-09,\n",
       "         -1.8653e-09, -1.8668e-09, -1.5302e-09, -2.0337e-09, -1.6673e-09,\n",
       "         -1.7774e-09, -1.5823e-09, -1.7688e-09, -1.7948e-09, -1.8853e-09,\n",
       "         -1.6118e-09, -2.0012e-09, -1.4188e-09, -1.9527e-09, -1.6880e-09,\n",
       "         -2.0396e-09, -2.0762e-09, -1.5136e-09, -1.4312e-09, -1.8909e-09,\n",
       "         -1.8792e-09, -1.8462e-09, -1.4442e-09, -1.9608e-09, -2.2012e-09,\n",
       "         -1.6237e-09, -1.2750e-09, -1.9891e-09, -1.9996e-09, -1.7273e-09,\n",
       "         -1.3446e-09, -1.3378e-09, -2.9953e-09, -1.4095e-09, -1.3180e-09,\n",
       "         -1.9304e-09, -1.9295e-09, -1.6504e-09, -1.5503e-09, -2.0646e-09,\n",
       "         -1.6702e-09, -1.4584e-09, -1.8675e-09, -1.6736e-09, -1.5602e-09,\n",
       "         -2.0609e-09, -1.7659e-09, -1.9471e-09, -1.9045e-09, -1.7116e-09,\n",
       "         -1.4975e-09, -1.7891e-09, -1.8687e-09, -1.6985e-09, -1.7044e-09,\n",
       "         -1.7723e-09, -2.5475e-09, -1.6995e-09, -1.0413e-09, -2.0668e-09,\n",
       "         -1.5724e-09, -1.5218e-09, -1.8996e-09, -2.1491e-09, -1.8194e-09,\n",
       "         -1.8738e-09, -1.2183e-09, -1.7394e-09, -2.4173e-09, -1.5376e-09,\n",
       "         -1.3664e-09, -2.4722e-09, -1.6657e-09, -1.4242e-09, -1.4986e-09,\n",
       "         -2.2859e-09, -2.1236e-09, -1.1207e-09, -1.5304e-09, -1.3538e-09,\n",
       "         -1.8857e-09, -2.2732e-09, -1.5479e-09, -1.8812e-09, -1.4610e-09,\n",
       "         -1.7400e-09, -1.9784e-09, -1.9833e-09, -1.5481e-09, -1.9395e-09,\n",
       "         -1.5897e-09, -1.7735e-09, -2.5234e-09, -1.3147e-09, -1.4491e-09,\n",
       "         -1.6895e-09, -2.1659e-09, -1.3216e-09, -1.8836e-09, -1.7186e-09,\n",
       "         -2.1312e-09, -1.8631e-09, -1.3477e-09, -1.9487e-09, -1.8037e-09,\n",
       "         -1.6933e-09, -1.6149e-09, -2.0240e-09, -1.9163e-09, -1.0943e-09,\n",
       "         -2.0260e-09, -2.0790e-09, -1.6629e-09, -1.7363e-09, -1.5824e-09,\n",
       "         -1.6903e-09, -1.7568e-09, -1.7423e-09, -1.8713e-09, -1.6964e-09,\n",
       "         -2.0807e-09, -1.6824e-09, -1.6011e-09, -1.7155e-09, -1.8636e-09,\n",
       "         -1.6946e-09, -1.7868e-09, -2.2329e-09, -1.8432e-09, -1.8780e-09,\n",
       "         -1.1066e-09, -1.9327e-09, -1.5454e-09, -2.0842e-09, -1.4983e-09,\n",
       "         -1.9466e-09, -1.6421e-09, -2.0160e-09, -1.4559e-09, -2.0639e-09,\n",
       "         -2.0098e-09, -1.3131e-09, -1.6739e-09, -1.7259e-09, -2.7278e-09,\n",
       "         -1.3578e-09, -1.2492e-09, -2.6335e-09, -1.4969e-09, -1.2189e-09,\n",
       "         -1.7113e-09, -2.0091e-09, -9.8771e-10, -2.2617e-09, -1.8021e-09,\n",
       "         -1.8899e-09, -1.7076e-09, -2.4912e-09, -9.7193e-10, -2.5472e-09,\n",
       "         -1.4966e-09, -1.2048e-09, -1.8120e-09, -2.4847e-09, -1.0830e-09,\n",
       "         -4.2365e-10, -3.0693e-09, -6.7805e-10, -4.4662e-09, -1.1809e-09,\n",
       "         -7.3551e-10, -1.1189e-09, -1.8894e-09, -3.2064e-09, -8.4595e-10,\n",
       "         -4.1191e-09, -1.1150e-09, -6.1879e-10, -1.2078e-09, -1.7969e-09,\n",
       "         -1.8875e-09, -1.1198e-09, -2.2564e-09, -2.0808e-09, -2.4416e-09,\n",
       "         -1.2740e-09, -1.2642e-09, -2.4466e-09, -1.6960e-09, -1.6810e-09,\n",
       "         -1.2370e-09, -1.7895e-09, -2.2439e-09, -1.4291e-09, -1.5981e-09,\n",
       "         -2.1230e-09, -2.3902e-09, -1.4379e-09, -1.1096e-09, -2.2360e-09,\n",
       "         -2.0675e-09, -1.0467e-09, -1.7104e-09, -2.2516e-09, -2.1206e-09,\n",
       "         -1.4811e-09, -1.2074e-09, -2.3480e-09, -1.9091e-09, -1.3119e-09,\n",
       "         -1.4917e-09, -2.1389e-09, -1.9758e-09, -1.6813e-09, -1.2646e-09,\n",
       "         -0.0000e+00, -5.8217e-08, -0.0000e+00, -0.0000e+00, -0.0000e+00,\n",
       "         -5.8217e-08, -0.0000e+00, -0.0000e+00, -0.0000e+00, -0.0000e+00,\n",
       "         -0.0000e+00, -5.8217e-08, -5.8217e-08, -0.0000e+00, -0.0000e+00,\n",
       "         -0.0000e+00, -5.8217e-08, -0.0000e+00, -0.0000e+00, -0.0000e+00,\n",
       "         -0.0000e+00, -5.8217e-08, -0.0000e+00, -0.0000e+00, -5.8217e-08,\n",
       "         -0.0000e+00, -0.0000e+00, -0.0000e+00, -0.0000e+00, -0.0000e+00,\n",
       "         -0.0000e+00, -5.8217e-08, -0.0000e+00, -0.0000e+00, -5.8217e-08,\n",
       "         -0.0000e+00, -0.0000e+00, -5.8217e-08, -0.0000e+00, -0.0000e+00,\n",
       "         -5.8217e-08, -0.0000e+00, -0.0000e+00, -0.0000e+00, -0.0000e+00,\n",
       "         -5.8217e-08, -0.0000e+00, -0.0000e+00, -5.8217e-08, -0.0000e+00,\n",
       "         -0.0000e+00, -0.0000e+00, -5.8217e-08, -0.0000e+00, -0.0000e+00,\n",
       "         -0.0000e+00, -0.0000e+00, -0.0000e+00, -5.8217e-08, -0.0000e+00,\n",
       "         -0.0000e+00, -0.0000e+00, -5.8217e-08, -0.0000e+00, -5.8217e-08,\n",
       "         -0.0000e+00, -0.0000e+00, -0.0000e+00, -0.0000e+00, -5.8217e-08,\n",
       "         -0.0000e+00, -0.0000e+00, -5.8217e-08, -0.0000e+00, -0.0000e+00,\n",
       "         -0.0000e+00, -0.0000e+00, -5.8217e-08, -0.0000e+00, -0.0000e+00,\n",
       "         -5.8217e-08, -0.0000e+00, -0.0000e+00, -0.0000e+00, -0.0000e+00,\n",
       "         -0.0000e+00, -0.0000e+00, -5.8217e-08, -0.0000e+00, -5.8217e-08,\n",
       "         -0.0000e+00, -0.0000e+00, -0.0000e+00, -0.0000e+00, -0.0000e+00,\n",
       "         -5.8217e-08, -5.8217e-08, -0.0000e+00, -0.0000e+00, -0.0000e+00,\n",
       "         -0.0000e+00, -0.0000e+00, -0.0000e+00, -5.8217e-08, -0.0000e+00,\n",
       "         -0.0000e+00, -5.8217e-08, -0.0000e+00, -0.0000e+00, -0.0000e+00,\n",
       "         -0.0000e+00, -5.8217e-08, -0.0000e+00, -0.0000e+00, -5.8217e-08,\n",
       "         -0.0000e+00, -0.0000e+00, -5.8217e-08, -0.0000e+00, -0.0000e+00,\n",
       "         -0.0000e+00, -0.0000e+00, -0.0000e+00, -5.8217e-08, -0.0000e+00,\n",
       "         -5.8217e-08, -0.0000e+00, -0.0000e+00, -0.0000e+00, -0.0000e+00,\n",
       "         -0.0000e+00, -5.8217e-08, -0.0000e+00, -5.8217e-08, -0.0000e+00,\n",
       "         -0.0000e+00, -0.0000e+00, -0.0000e+00, -0.0000e+00, -5.8217e-08,\n",
       "         -0.0000e+00, -0.0000e+00, -0.0000e+00, -5.8217e-08, -0.0000e+00,\n",
       "         -5.8217e-08, -0.0000e+00, -0.0000e+00, -0.0000e+00, -0.0000e+00,\n",
       "         -0.0000e+00, -5.8217e-08, -0.0000e+00, -0.0000e+00, -0.0000e+00,\n",
       "         -5.8217e-08, -0.0000e+00, -5.8217e-08, -0.0000e+00, -0.0000e+00,\n",
       "         -5.8217e-08, -0.0000e+00, -0.0000e+00, -0.0000e+00, -5.8217e-08,\n",
       "         -0.0000e+00, -0.0000e+00, -0.0000e+00, -5.8217e-08, -0.0000e+00,\n",
       "         -0.0000e+00, -0.0000e+00, -5.8217e-08, -0.0000e+00, -0.0000e+00,\n",
       "         -0.0000e+00, -0.0000e+00, -0.0000e+00, -0.0000e+00, -5.8217e-08,\n",
       "         -0.0000e+00, -0.0000e+00, -5.8217e-08, -0.0000e+00, -0.0000e+00,\n",
       "         -5.8217e-08, -0.0000e+00, -0.0000e+00, -0.0000e+00, -0.0000e+00,\n",
       "         -0.0000e+00, -5.8217e-08, -0.0000e+00, -5.8217e-08, -0.0000e+00,\n",
       "         -0.0000e+00, -0.0000e+00, -5.8217e-08, -0.0000e+00, -0.0000e+00,\n",
       "         -0.0000e+00, -0.0000e+00, -5.8217e-08, -0.0000e+00, -5.8217e-08,\n",
       "         -0.0000e+00, -0.0000e+00, -0.0000e+00, -0.0000e+00, -5.8217e-08,\n",
       "         -0.0000e+00, -0.0000e+00, -0.0000e+00, -0.0000e+00, -5.8217e-08,\n",
       "         -0.0000e+00, -0.0000e+00, -5.8217e-08, -0.0000e+00, -0.0000e+00,\n",
       "         -0.0000e+00, -5.8217e-08, -0.0000e+00, -0.0000e+00, -0.0000e+00,\n",
       "         -5.8217e-08, -0.0000e+00, -0.0000e+00, -0.0000e+00, -0.0000e+00,\n",
       "         -5.8217e-08, -0.0000e+00, -0.0000e+00, -0.0000e+00, -0.0000e+00,\n",
       "         -5.8217e-08, -0.0000e+00, -0.0000e+00, -5.8217e-08, -0.0000e+00,\n",
       "         -5.8217e-08]))"
      ]
     },
     "execution_count": 9,
     "metadata": {},
     "output_type": "execute_result"
    }
   ],
   "source": [
    "theta = tr.randn(len(x[0])) # Randomly intialize theta vector\n",
    "theta.requires_grad_()\n",
    "cost = tr.sum((tr.tensor(y[0]).float() - softplus(tr.dot(tr.tensor(x[0]).float(),theta)))**2)\n",
    "print(tr.dot(tr.tensor(x[0]).float(),theta))\n",
    "cost.backward()\n",
    "cost, theta.grad"
   ]
  },
  {
   "cell_type": "code",
   "execution_count": 131,
   "metadata": {},
   "outputs": [
    {
     "data": {
      "text/plain": [
       "(tensor(9.0000e-06), tensor(0.0022))"
      ]
     },
     "execution_count": 131,
     "metadata": {},
     "output_type": "execute_result"
    }
   ],
   "source": [
    "min([y for y in train_y if y != 0]), max(test_y)"
   ]
  },
  {
   "cell_type": "code",
   "execution_count": 83,
   "metadata": {},
   "outputs": [
    {
     "data": {
      "text/plain": [
       "tensor([0.0004, 0.0004, 0.0000,  ..., 0.0001, 0.0000, 0.0009])"
      ]
     },
     "execution_count": 83,
     "metadata": {},
     "output_type": "execute_result"
    }
   ],
   "source": [
    "train_y"
   ]
  },
  {
   "cell_type": "code",
   "execution_count": 125,
   "metadata": {},
   "outputs": [
    {
     "data": {
      "text/plain": [
       "<tf.Tensor: shape=(), dtype=float32, numpy=-11.618282>"
      ]
     },
     "execution_count": 125,
     "metadata": {},
     "output_type": "execute_result"
    }
   ],
   "source": [
    "tfp.math.softplus_inverse(9e-6)"
   ]
  },
  {
   "cell_type": "code",
   "execution_count": 58,
   "metadata": {},
   "outputs": [
    {
     "data": {
      "text/plain": [
       "tensor(0.6931)"
      ]
     },
     "execution_count": 58,
     "metadata": {},
     "output_type": "execute_result"
    }
   ],
   "source": [
    "softplus(tr.tensor(0.).float())"
   ]
  },
  {
   "cell_type": "code",
   "execution_count": 54,
   "metadata": {},
   "outputs": [
    {
     "data": {
      "text/plain": [
       "348"
      ]
     },
     "execution_count": 54,
     "metadata": {},
     "output_type": "execute_result"
    }
   ],
   "source": [
    "len([0 for pred in preds if pred == 7.510157047363464e-07])"
   ]
  },
  {
   "cell_type": "code",
   "execution_count": 53,
   "metadata": {},
   "outputs": [
    {
     "data": {
      "text/plain": [
       "7.510157047363464e-07"
      ]
     },
     "execution_count": 53,
     "metadata": {},
     "output_type": "execute_result"
    }
   ],
   "source": [
    "min(preds)"
   ]
  },
  {
   "cell_type": "code",
   "execution_count": null,
   "metadata": {},
   "outputs": [],
   "source": []
  }
 ],
 "metadata": {
  "kernelspec": {
   "display_name": "Python 3.7.2 64-bit",
   "language": "python",
   "name": "python37264bit7527458fe11f4e49aafeb4daebb28d08"
  },
  "language_info": {
   "codemirror_mode": {
    "name": "ipython",
    "version": 3
   },
   "file_extension": ".py",
   "mimetype": "text/x-python",
   "name": "python",
   "nbconvert_exporter": "python",
   "pygments_lexer": "ipython3",
   "version": "3.7.2"
  }
 },
 "nbformat": 4,
 "nbformat_minor": 4
}
